{
  "nbformat": 4,
  "nbformat_minor": 0,
  "metadata": {
    "colab": {
      "provenance": []
    },
    "kernelspec": {
      "name": "python3",
      "display_name": "Python 3"
    },
    "language_info": {
      "name": "python"
    }
  },
  "cells": [
    {
      "cell_type": "code",
      "source": [],
      "metadata": {
        "id": "CNU-a2-bDceM"
      },
      "execution_count": 7,
      "outputs": []
    },
    {
      "cell_type": "code",
      "source": [],
      "metadata": {
        "id": "LtVxHEaPDchX"
      },
      "execution_count": null,
      "outputs": []
    },
    {
      "cell_type": "markdown",
      "source": [
        "# Python Functions:\n",
        "\n",
        "A **function** in Python is a **block of reusable code** that performs a specific task.  \n",
        "Instead of writing the **same code multiple times**, we can define a function **once** and call it whenever needed.  \n",
        "\n",
        "### 🔹 Why Use Functions?  \n",
        "- **Improves Code Readability** ✅  \n",
        "- **Enhances Code Reusability** ✅  \n",
        "- **Reduces Redundancy** ✅  \n",
        "- **Makes Debugging Easier** ✅  \n",
        "\n",
        "### 🔹 Basic Syntax of a Function:  \n",
        "```python\n",
        "def function_name(parameters):\n",
        "    # Code block\n",
        "    return result\n"
      ],
      "metadata": {
        "id": "Vab0yjoJG4ol"
      }
    },
    {
      "cell_type": "code",
      "source": [],
      "metadata": {
        "id": "wBsSaXN3DckN"
      },
      "execution_count": null,
      "outputs": []
    },
    {
      "cell_type": "code",
      "source": [],
      "metadata": {
        "id": "tUJ2Iv01Dcm-"
      },
      "execution_count": null,
      "outputs": []
    },
    {
      "cell_type": "code",
      "source": [],
      "metadata": {
        "id": "W2r_U39ODcqF"
      },
      "execution_count": null,
      "outputs": []
    },
    {
      "cell_type": "code",
      "source": [],
      "metadata": {
        "id": "9VZagbOZDcts"
      },
      "execution_count": null,
      "outputs": []
    },
    {
      "cell_type": "code",
      "source": [],
      "metadata": {
        "id": "Gsi_1-dlDcxM"
      },
      "execution_count": null,
      "outputs": []
    },
    {
      "cell_type": "code",
      "source": [],
      "metadata": {
        "id": "L45VVecJDc0h"
      },
      "execution_count": null,
      "outputs": []
    }
  ]
}