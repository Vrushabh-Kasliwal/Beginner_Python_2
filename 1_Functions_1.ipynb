{
  "nbformat": 4,
  "nbformat_minor": 0,
  "metadata": {
    "colab": {
      "provenance": []
    },
    "kernelspec": {
      "name": "python3",
      "display_name": "Python 3"
    },
    "language_info": {
      "name": "python"
    }
  },
  "cells": [
    {
      "cell_type": "code",
      "source": [],
      "metadata": {
        "id": "CNU-a2-bDceM"
      },
      "execution_count": 66,
      "outputs": []
    },
    {
      "cell_type": "code",
      "source": [],
      "metadata": {
        "id": "LtVxHEaPDchX"
      },
      "execution_count": 66,
      "outputs": []
    },
    {
      "cell_type": "markdown",
      "source": [
        "# Python Functions:\n",
        "\n",
        "A **function** in Python is a **block of reusable code** that performs a specific task.  \n",
        "Instead of writing the **same code multiple times**, we can define a function **once** and call it whenever needed.  \n",
        "\n",
        "### 🔹 Why Use Functions?  \n",
        "- **Improves Code Readability** ✅  \n",
        "- **Enhances Code Reusability** ✅  \n",
        "- **Reduces Redundancy** ✅  \n",
        "- **Makes Debugging Easier** ✅  \n",
        "\n",
        "### 🔹 Basic Syntax of a Function:  \n",
        "```python\n",
        "def function_name(parameters):\n",
        "    # Code block\n",
        "    return result\n"
      ],
      "metadata": {
        "id": "Vab0yjoJG4ol"
      }
    },
    {
      "cell_type": "code",
      "source": [],
      "metadata": {
        "id": "wBsSaXN3DckN"
      },
      "execution_count": null,
      "outputs": []
    },
    {
      "cell_type": "code",
      "source": [
        "# Data Collection & Cleaning\n",
        "\n",
        "print(\"Collect and clean the raw data!\")\n",
        "\n",
        "# Data Wrangling / Preprocessing\n",
        "\n",
        "print(\"Organize and preprocess the dataset!\")\n",
        "\n",
        "# Data Enrichment\n",
        "\n",
        "print(\"Fetch external data sources for additional insights!\")\n",
        "\n",
        "# Data Exploration & Visualization\n",
        "\n",
        "print(\"Prepare and visualize the data effectively!\")\n",
        "\n",
        "# Interpretation & Communication\n",
        "\n",
        "print(\"Present insights and make data-driven decisions!\")"
      ],
      "metadata": {
        "colab": {
          "base_uri": "https://localhost:8080/"
        },
        "id": "tUJ2Iv01Dcm-",
        "outputId": "fe614a1a-e540-4925-93ff-5aeaab5a97be"
      },
      "execution_count": null,
      "outputs": [
        {
          "output_type": "stream",
          "name": "stdout",
          "text": [
            "Collect and clean the raw data!\n",
            "Organize and preprocess the dataset!\n",
            "Fetch external data sources for additional insights!\n",
            "Prepare and visualize the data effectively!\n",
            "Present insights and make data-driven decisions!\n"
          ]
        }
      ]
    },
    {
      "cell_type": "code",
      "source": [],
      "metadata": {
        "id": "snV4kg0AcqMn"
      },
      "execution_count": null,
      "outputs": []
    },
    {
      "cell_type": "markdown",
      "source": [
        "### Function Definition -> \"def\" is the keyword\n"
      ],
      "metadata": {
        "id": "M-ICbD1VcqV9"
      }
    },
    {
      "cell_type": "code",
      "source": [
        "def data_analysis_process() :\n",
        "\n",
        "    \"\"\"Prints all steps of the Data Analysis Process.\"\"\"\n",
        "\n",
        "    # Data Collection & Cleaning\n",
        "\n",
        "    print(\"Collect and clean the raw data!\")\n",
        "\n",
        "    # Data Wrangling / Preprocessing\n",
        "\n",
        "    print(\"Organize and preprocess the dataset!\")\n",
        "\n",
        "    # Data Enrichment\n",
        "\n",
        "    print(\"Fetch external data sources for additional insights!\")\n",
        "\n",
        "    # Data Exploration & Visualization\n",
        "\n",
        "    print(\"Prepare and visualize the data effectively!\")\n",
        "\n",
        "    # Interpretation & Communication\n",
        "\n",
        "    print(\"Present insights and make data-driven decisions!\")\n",
        "\n",
        "# Calling the function to execute the entire process\n",
        "\n",
        "data_analysis_process()"
      ],
      "metadata": {
        "colab": {
          "base_uri": "https://localhost:8080/"
        },
        "id": "W2r_U39ODcqF",
        "outputId": "244abcee-e7ee-4d8c-d2ad-db4ecb0722f7"
      },
      "execution_count": null,
      "outputs": [
        {
          "output_type": "stream",
          "name": "stdout",
          "text": [
            "Collect and clean the raw data!\n",
            "Organize and preprocess the dataset!\n",
            "Fetch external data sources for additional insights!\n",
            "Prepare and visualize the data effectively!\n",
            "Present insights and make data-driven decisions!\n"
          ]
        }
      ]
    },
    {
      "cell_type": "code",
      "source": [],
      "metadata": {
        "id": "o4YESlwhc5fu"
      },
      "execution_count": null,
      "outputs": []
    },
    {
      "cell_type": "markdown",
      "source": [
        "### Function can accept arguments"
      ],
      "metadata": {
        "id": "bvfqO4-ac5oD"
      }
    },
    {
      "cell_type": "code",
      "source": [
        "def data_analysis_process(dataset_name) :\n",
        "\n",
        "    \"\"\"Prints all steps of the Data Analysis Process for a given dataset.\"\"\"\n",
        "\n",
        "    # Data Collection & Cleaning\n",
        "\n",
        "    print(\"Collect and clean the raw data from '\" + dataset_name + \"'!\")\n",
        "\n",
        "    # Data Wrangling / Preprocessing\n",
        "\n",
        "    print(\"Organize and preprocess the dataset '\" + dataset_name + \"'!\")\n",
        "\n",
        "    # Data Enrichment\n",
        "\n",
        "    print(\"Fetch external data sources for additional insights on '\" + dataset_name + \"'!\")\n",
        "\n",
        "    # Data Exploration & Visualization\n",
        "\n",
        "    print(\"Prepare and visualize the data of '\" + dataset_name + \"' effectively!\")\n",
        "\n",
        "    # Interpretation & Communication\n",
        "\n",
        "    print(\"Present insights and make data-driven decisions for '\" + dataset_name + \"'!\")\n",
        "\n",
        "# Calling the function with an argument\n",
        "\n",
        "data_analysis_process(\"Customer Transactions Data\")"
      ],
      "metadata": {
        "colab": {
          "base_uri": "https://localhost:8080/"
        },
        "id": "9VZagbOZDcts",
        "outputId": "d176f73d-23ed-45fb-bb0d-c1bd7646475e"
      },
      "execution_count": null,
      "outputs": [
        {
          "output_type": "stream",
          "name": "stdout",
          "text": [
            "Collect and clean the raw data from 'Customer Transactions Data'!\n",
            "Organize and preprocess the dataset 'Customer Transactions Data'!\n",
            "Fetch external data sources for additional insights on 'Customer Transactions Data'!\n",
            "Prepare and visualize the data of 'Customer Transactions Data' effectively!\n",
            "Present insights and make data-driven decisions for 'Customer Transactions Data'!\n"
          ]
        }
      ]
    },
    {
      "cell_type": "code",
      "source": [],
      "metadata": {
        "id": "Gsi_1-dlDcxM"
      },
      "execution_count": null,
      "outputs": []
    },
    {
      "cell_type": "code",
      "source": [
        "'''\n",
        "\n",
        "Take a name as input.\n",
        "Write a greeter function which prints, \"Hello, <name> :)\"\n",
        "after accepting name as an argument.\n",
        "\n",
        "'''\n",
        "# Function definition -> \"def\" is the keyword\n",
        "\n",
        "def greetings (Name) :\n",
        "\n",
        "    # Printing a greeting message with the provided name\n",
        "\n",
        "    print(\"Hello\", Name)\n",
        "\n",
        "# Function call with argument \"Data Analyst\"\n",
        "\n",
        "greetings(\"Data Analyst\")"
      ],
      "metadata": {
        "colab": {
          "base_uri": "https://localhost:8080/"
        },
        "id": "L45VVecJDc0h",
        "outputId": "be402ac7-32ec-43ec-f2aa-27c1a144db67"
      },
      "execution_count": null,
      "outputs": [
        {
          "output_type": "stream",
          "name": "stdout",
          "text": [
            "Hello Data Analyst\n"
          ]
        }
      ]
    },
    {
      "cell_type": "code",
      "source": [],
      "metadata": {
        "id": "LakNb9A4dk6g"
      },
      "execution_count": null,
      "outputs": []
    },
    {
      "cell_type": "markdown",
      "source": [
        "### A Function can accept multiple arguments"
      ],
      "metadata": {
        "id": "IPw2sG4GeFzy"
      }
    },
    {
      "cell_type": "code",
      "source": [
        "# FUNCTION DEFINITION -> \"def\" is the keyword\n",
        "\n",
        "def data_analysis_process(dataset_name, data_type, analysis_method) :\n",
        "\n",
        "    \"\"\"Prints all steps of the Data Analysis Process for a given dataset, with extra details.\"\"\"\n",
        "\n",
        "    # Data Collection & Cleaning\n",
        "\n",
        "    print(\"Collect and clean the raw data from '\" + dataset_name + \"' of type '\" + data_type + \"'!\")\n",
        "\n",
        "    # Data Wrangling / Preprocessing\n",
        "\n",
        "    print(\"Organize and preprocess the dataset '\" + dataset_name + \"' of type '\" + data_type + \"'!\")\n",
        "\n",
        "    # Data Enrichment\n",
        "\n",
        "    print(\"Fetch external data sources for additional insights on '\" + dataset_name + \"' using '\" + analysis_method + \"' analysis method!\")\n",
        "\n",
        "    # Data Exploration & Visualization\n",
        "\n",
        "    print(\"Prepare and visualize the data of '\" + dataset_name + \"' using '\" + analysis_method + \"' techniques!\")\n",
        "\n",
        "    # Interpretation & Communication\n",
        "\n",
        "    print(\"Present insights and make data-driven decisions for '\" + dataset_name + \"' with the help of '\" + analysis_method + \"' method!\")\n",
        "\n",
        "# Calling the function with multiple arguments\n",
        "\n",
        "data_analysis_process(\"Customer Transactions Data\", \"Structured\", \"Regression\")"
      ],
      "metadata": {
        "colab": {
          "base_uri": "https://localhost:8080/"
        },
        "id": "DEyttXfLeF9b",
        "outputId": "3d21256a-c01e-43e4-d8e8-cbe3fe7fecfd"
      },
      "execution_count": null,
      "outputs": [
        {
          "output_type": "stream",
          "name": "stdout",
          "text": [
            "Collect and clean the raw data from 'Customer Transactions Data' of type 'Structured'!\n",
            "Organize and preprocess the dataset 'Customer Transactions Data' of type 'Structured'!\n",
            "Fetch external data sources for additional insights on 'Customer Transactions Data' using 'Regression' analysis method!\n",
            "Prepare and visualize the data of 'Customer Transactions Data' using 'Regression' techniques!\n",
            "Present insights and make data-driven decisions for 'Customer Transactions Data' with the help of 'Regression' method!\n"
          ]
        }
      ]
    },
    {
      "cell_type": "code",
      "source": [
        "# FUNCTION DEFINITION -> \"def\" is the keyword\n",
        "\n",
        "'''\n",
        "\n",
        "You're trying to call the data_analysis_process() function with two arguments (\"Customer Transactions Data\" and \"Structured\"),\n",
        "but the function is defined to accept three arguments (dataset_name, data_type, and analysis_method).\n",
        "This will raise a TypeError because the function definition requires three arguments, and you're only passing two.\n",
        "\n",
        "'''\n",
        "\n",
        "def data_analysis_process(dataset_name, data_type, analysis_method) :\n",
        "\n",
        "    \"\"\"Prints all steps of the Data Analysis Process for a given dataset, with extra details.\"\"\"\n",
        "\n",
        "    # Data Collection & Cleaning\n",
        "\n",
        "    print(\"Collect and clean the raw data from '\" + dataset_name + \"' of type '\" + data_type + \"'!\")\n",
        "\n",
        "    # Data Wrangling / Preprocessing\n",
        "\n",
        "    print(\"Organize and preprocess the dataset '\" + dataset_name + \"' of type '\" + data_type + \"'!\")\n",
        "\n",
        "    # Data Enrichment\n",
        "\n",
        "    print(\"Fetch external data sources for additional insights on '\" + dataset_name + \"' using '\" + analysis_method + \"' analysis method!\")\n",
        "\n",
        "    # Data Exploration & Visualization\n",
        "\n",
        "    print(\"Prepare and visualize the data of '\" + dataset_name + \"' using '\" + analysis_method + \"' techniques!\")\n",
        "\n",
        "    # Interpretation & Communication\n",
        "\n",
        "    print(\"Present insights and make data-driven decisions for '\" + dataset_name + \"' with the help of '\" + analysis_method + \"' method!\")\n",
        "\n",
        "# Calling the function with multiple arguments\n",
        "\n",
        "data_analysis_process(\"Customer Transactions Data\", \"Structured\")"
      ],
      "metadata": {
        "colab": {
          "base_uri": "https://localhost:8080/",
          "height": 176
        },
        "id": "BnlWELstebhf",
        "outputId": "b6e30b52-43c0-47f4-db0a-f788c472cfc2"
      },
      "execution_count": null,
      "outputs": [
        {
          "output_type": "error",
          "ename": "TypeError",
          "evalue": "data_analysis_process() missing 1 required positional argument: 'analysis_method'",
          "traceback": [
            "\u001b[0;31m---------------------------------------------------------------------------\u001b[0m",
            "\u001b[0;31mTypeError\u001b[0m                                 Traceback (most recent call last)",
            "\u001b[0;32m<ipython-input-25-d1bf9c0561df>\u001b[0m in \u001b[0;36m<cell line: 0>\u001b[0;34m()\u001b[0m\n\u001b[1;32m     35\u001b[0m \u001b[0;31m# Calling the function with multiple arguments\u001b[0m\u001b[0;34m\u001b[0m\u001b[0;34m\u001b[0m\u001b[0m\n\u001b[1;32m     36\u001b[0m \u001b[0;34m\u001b[0m\u001b[0m\n\u001b[0;32m---> 37\u001b[0;31m \u001b[0mdata_analysis_process\u001b[0m\u001b[0;34m(\u001b[0m\u001b[0;34m\"Customer Transactions Data\"\u001b[0m\u001b[0;34m,\u001b[0m \u001b[0;34m\"Structured\"\u001b[0m\u001b[0;34m)\u001b[0m\u001b[0;34m\u001b[0m\u001b[0;34m\u001b[0m\u001b[0m\n\u001b[0m",
            "\u001b[0;31mTypeError\u001b[0m: data_analysis_process() missing 1 required positional argument: 'analysis_method'"
          ]
        }
      ]
    },
    {
      "cell_type": "code",
      "source": [
        "# FUNCTION DEFINITION -> \"def\" is the keyword\n",
        "\n",
        "'''\n",
        "\n",
        "You're trying to call the data_analysis_process() function with four arguments,\n",
        "but the function is defined to accept only three arguments (dataset_name, data_type, and analysis_method).\n",
        "This will raise a TypeError because the function definition does not support a fourth argument.\n",
        "\n",
        "'''\n",
        "\n",
        "def data_analysis_process(dataset_name, data_type, analysis_method) :\n",
        "\n",
        "    \"\"\"Prints all steps of the Data Analysis Process for a given dataset, with extra details.\"\"\"\n",
        "\n",
        "    # Data Collection & Cleaning\n",
        "\n",
        "    print(\"Collect and clean the raw data from '\" + dataset_name + \"' of type '\" + data_type + \"'!\")\n",
        "\n",
        "    # Data Wrangling / Preprocessing\n",
        "\n",
        "    print(\"Organize and preprocess the dataset '\" + dataset_name + \"' of type '\" + data_type + \"'!\")\n",
        "\n",
        "    # Data Enrichment\n",
        "\n",
        "    print(\"Fetch external data sources for additional insights on '\" + dataset_name + \"' using '\" + analysis_method + \"' analysis method!\")\n",
        "\n",
        "    # Data Exploration & Visualization\n",
        "\n",
        "    print(\"Prepare and visualize the data of '\" + dataset_name + \"' using '\" + analysis_method + \"' techniques!\")\n",
        "\n",
        "    # Interpretation & Communication\n",
        "\n",
        "    print(\"Present insights and make data-driven decisions for '\" + dataset_name + \"' with the help of '\" + analysis_method + \"' method!\")\n",
        "\n",
        "# Calling the function with multiple arguments\n",
        "\n",
        "data_analysis_process(\"Customer Transactions Data\", \"Structured\", \"Regression\", \"Model Building\")"
      ],
      "metadata": {
        "colab": {
          "base_uri": "https://localhost:8080/",
          "height": 176
        },
        "id": "o0TcC3hWesoX",
        "outputId": "3dd50b9f-3286-4727-ea9b-7a382e442aec"
      },
      "execution_count": null,
      "outputs": [
        {
          "output_type": "error",
          "ename": "TypeError",
          "evalue": "data_analysis_process() takes 3 positional arguments but 4 were given",
          "traceback": [
            "\u001b[0;31m---------------------------------------------------------------------------\u001b[0m",
            "\u001b[0;31mTypeError\u001b[0m                                 Traceback (most recent call last)",
            "\u001b[0;32m<ipython-input-26-89a4ff8d816a>\u001b[0m in \u001b[0;36m<cell line: 0>\u001b[0;34m()\u001b[0m\n\u001b[1;32m     35\u001b[0m \u001b[0;31m# Calling the function with multiple arguments\u001b[0m\u001b[0;34m\u001b[0m\u001b[0;34m\u001b[0m\u001b[0m\n\u001b[1;32m     36\u001b[0m \u001b[0;34m\u001b[0m\u001b[0m\n\u001b[0;32m---> 37\u001b[0;31m \u001b[0mdata_analysis_process\u001b[0m\u001b[0;34m(\u001b[0m\u001b[0;34m\"Customer Transactions Data\"\u001b[0m\u001b[0;34m,\u001b[0m \u001b[0;34m\"Structured\"\u001b[0m\u001b[0;34m,\u001b[0m \u001b[0;34m\"Regression\"\u001b[0m\u001b[0;34m,\u001b[0m \u001b[0;34m\"Model Building\"\u001b[0m\u001b[0;34m)\u001b[0m\u001b[0;34m\u001b[0m\u001b[0;34m\u001b[0m\u001b[0m\n\u001b[0m",
            "\u001b[0;31mTypeError\u001b[0m: data_analysis_process() takes 3 positional arguments but 4 were given"
          ]
        }
      ]
    },
    {
      "cell_type": "code",
      "source": [],
      "metadata": {
        "id": "65oNa_Q4e3Lw"
      },
      "execution_count": null,
      "outputs": []
    },
    {
      "cell_type": "code",
      "source": [
        "# Function definition -> \"def\" is the keyword\n",
        "\n",
        "def add_two_numbers(Num_1, Num_2) :\n",
        "\n",
        "    # Printing the sum of the two numbers\n",
        "\n",
        "    print(Num_1 + Num_2)\n",
        "\n",
        "# Calling the function with two arguments (5 and 10)\n",
        "\n",
        "add_two_numbers(5, 10)"
      ],
      "metadata": {
        "colab": {
          "base_uri": "https://localhost:8080/"
        },
        "id": "NLC0vJfsgi9Z",
        "outputId": "890bb521-a680-44d2-b104-8308573b4949"
      },
      "execution_count": null,
      "outputs": [
        {
          "output_type": "stream",
          "name": "stdout",
          "text": [
            "15\n"
          ]
        }
      ]
    },
    {
      "cell_type": "code",
      "source": [
        "# Function definition -> \"def\" is the keyword\n",
        "\n",
        "def add_two_numbers(Num_1, Num_2) :\n",
        "\n",
        "    # Returning the sum of Num_1 and Num_2\n",
        "\n",
        "    return Num_1 + Num_2\n",
        "\n",
        "# Calling the function with two arguments (5 and 10)\n",
        "# This will return the sum of 5 and 10, which is 15\n",
        "\n",
        "add_two_numbers(5, 10)"
      ],
      "metadata": {
        "colab": {
          "base_uri": "https://localhost:8080/"
        },
        "id": "66oKMR2fgtzP",
        "outputId": "8e5e2e7a-cfab-4e59-e1ca-0fda019b2cb1"
      },
      "execution_count": null,
      "outputs": [
        {
          "output_type": "execute_result",
          "data": {
            "text/plain": [
              "15"
            ]
          },
          "metadata": {},
          "execution_count": 29
        }
      ]
    },
    {
      "cell_type": "code",
      "source": [
        "# Function definition -> \"def\" is the keyword\n",
        "\n",
        "# Function that prints the sum of two numbers\n",
        "\n",
        "def add_two_numbers_with_print(Num_1, Num_2) :\n",
        "    print(Num_1 + Num_2)\n",
        "\n",
        "# Function that returns the sum of two numbers\n",
        "\n",
        "def add_two_numbers_with_return(Num_1, Num_2) :\n",
        "    return Num_1 + Num_2\n",
        "\n",
        "# Calling the first function that prints the sum (10 + 5 = 15)\n",
        "\n",
        "add_two_numbers_with_print(10, 5)\n",
        "\n",
        "# Calling the second function that returns the sum (2 + 3 = 5)\n",
        "# The result will not be printed unless explicitly printed or stored in a variable\n",
        "\n",
        "add_two_numbers_with_return(2, 3)"
      ],
      "metadata": {
        "colab": {
          "base_uri": "https://localhost:8080/"
        },
        "id": "ysb49OHkhNgU",
        "outputId": "e3ace82e-1c06-44a3-cfeb-ddfbd4508601"
      },
      "execution_count": null,
      "outputs": [
        {
          "output_type": "stream",
          "name": "stdout",
          "text": [
            "15\n"
          ]
        },
        {
          "output_type": "execute_result",
          "data": {
            "text/plain": [
              "5"
            ]
          },
          "metadata": {},
          "execution_count": 31
        }
      ]
    },
    {
      "cell_type": "code",
      "source": [
        "# Function definition -> \"def\" is the keyword\n",
        "\n",
        "# Function that both prints and returns the sum of two numbers\n",
        "\n",
        "def add_two_numbers_with_both(Num_1, Num_2) :\n",
        "\n",
        "    # Calculate the sum of Num_1 and Num_2\n",
        "\n",
        "    value = Num_1 + Num_2\n",
        "\n",
        "    # Print the calculated sum\n",
        "\n",
        "    print(value)\n",
        "\n",
        "    # Return the calculated sum\n",
        "\n",
        "    return value\n",
        "\n",
        "# Calling the function with two arguments (10 and 20)\n",
        "# It will print the sum (30) and also return the value 30\n",
        "\n",
        "add_two_numbers_with_both(10, 20)"
      ],
      "metadata": {
        "colab": {
          "base_uri": "https://localhost:8080/"
        },
        "id": "k8kNfRzNh1Bp",
        "outputId": "a20d1adf-4a97-4656-876d-03bf1685fa4f"
      },
      "execution_count": null,
      "outputs": [
        {
          "output_type": "stream",
          "name": "stdout",
          "text": [
            "30\n"
          ]
        },
        {
          "output_type": "execute_result",
          "data": {
            "text/plain": [
              "30"
            ]
          },
          "metadata": {},
          "execution_count": 33
        }
      ]
    },
    {
      "cell_type": "code",
      "source": [
        "# Function definition -> \"def\" is the keyword\n",
        "\n",
        "def random() :\n",
        "\n",
        "    # This will be printed before the return statement\n",
        "\n",
        "    print(\"CODE BEFORE RETURN!\")\n",
        "\n",
        "    # Returning the value 1\n",
        "\n",
        "    return 1\n",
        "\n",
        "    # This line will never be executed because the function exits after the return statement\n",
        "\n",
        "    print(\"CODE AFTER RETURN!\")\n",
        "\n",
        "# Calling the function\n",
        "\n",
        "random()"
      ],
      "metadata": {
        "colab": {
          "base_uri": "https://localhost:8080/"
        },
        "id": "e8HeKDw7iSfs",
        "outputId": "e0106b00-59bc-41da-bfed-3d629e6d52cc"
      },
      "execution_count": null,
      "outputs": [
        {
          "output_type": "stream",
          "name": "stdout",
          "text": [
            "CODE BEFORE RETURN!\n"
          ]
        },
        {
          "output_type": "execute_result",
          "data": {
            "text/plain": [
              "1"
            ]
          },
          "metadata": {},
          "execution_count": 34
        }
      ]
    },
    {
      "cell_type": "code",
      "source": [],
      "metadata": {
        "id": "rwqHl5yiiomJ"
      },
      "execution_count": null,
      "outputs": []
    },
    {
      "cell_type": "markdown",
      "source": [
        "###  Positional followed by Keyword (Allowed)"
      ],
      "metadata": {
        "id": "LRfzm4XojMPQ"
      }
    },
    {
      "cell_type": "code",
      "source": [
        "# Function definition with positional and keyword arguments\n",
        "\n",
        "def greet(name, message = \"Hello\") :\n",
        "    print(message + \", \" + name + \"!\")\n",
        "\n",
        "# Calling the function with positional argument first and keyword argument second\n",
        "\n",
        "greet(\"Alice\", message=\"Good Morning\")\n",
        "greet(\"Bob\")  # Default message will be used"
      ],
      "metadata": {
        "colab": {
          "base_uri": "https://localhost:8080/"
        },
        "id": "m5S6aNc1jMav",
        "outputId": "560c68e6-8bf8-453e-ffcf-1d7728cdebf8"
      },
      "execution_count": null,
      "outputs": [
        {
          "output_type": "stream",
          "name": "stdout",
          "text": [
            "Good Morning, Alice!\n",
            "Hello, Bob!\n"
          ]
        }
      ]
    },
    {
      "cell_type": "code",
      "source": [],
      "metadata": {
        "id": "nnKP-01RjghP"
      },
      "execution_count": null,
      "outputs": []
    },
    {
      "cell_type": "markdown",
      "source": [
        "### Keyword followed by Positional (Not Allowed)"
      ],
      "metadata": {
        "id": "BIAj4wsOjiZ-"
      }
    },
    {
      "cell_type": "code",
      "source": [
        "# Function definition with positional and keyword arguments\n",
        "def greet(name, message = \"Hello\") :\n",
        "    print(message + \", \" + name + \"!\")\n",
        "\n",
        "# This will raise a SyntaxError\n",
        "\n",
        "greet(message=\"Good Morning\", \"Alice\")"
      ],
      "metadata": {
        "colab": {
          "base_uri": "https://localhost:8080/",
          "height": 106
        },
        "id": "x9Samyp9jimL",
        "outputId": "964b2c12-18e3-4567-fa98-5cf165cad9ea"
      },
      "execution_count": null,
      "outputs": [
        {
          "output_type": "error",
          "ename": "SyntaxError",
          "evalue": "positional argument follows keyword argument (<ipython-input-36-a7172554d126>, line 7)",
          "traceback": [
            "\u001b[0;36m  File \u001b[0;32m\"<ipython-input-36-a7172554d126>\"\u001b[0;36m, line \u001b[0;32m7\u001b[0m\n\u001b[0;31m    greet(message=\"Good Morning\", \"Alice\")\u001b[0m\n\u001b[0m                                         ^\u001b[0m\n\u001b[0;31mSyntaxError\u001b[0m\u001b[0;31m:\u001b[0m positional argument follows keyword argument\n"
          ]
        }
      ]
    },
    {
      "cell_type": "code",
      "source": [],
      "metadata": {
        "id": "1UedKCBmjxOl"
      },
      "execution_count": null,
      "outputs": []
    },
    {
      "cell_type": "markdown",
      "source": [
        "### Docstring with Single Quotes"
      ],
      "metadata": {
        "id": "AU0icVsikBcQ"
      }
    },
    {
      "cell_type": "code",
      "source": [
        "def greet(name) :\n",
        "\n",
        "    '''\n",
        "    This function takes a name as input and prints a greeting message.\n",
        "    It uses single quotes for the docstring.\n",
        "\n",
        "    Parameters:\n",
        "    name (str): The name of the person to greet.\n",
        "\n",
        "    Returns:\n",
        "    None\n",
        "    '''\n",
        "\n",
        "    print(\"Hello, \" + name + \"!\")"
      ],
      "metadata": {
        "id": "ruI9A9URkBk1"
      },
      "execution_count": null,
      "outputs": []
    },
    {
      "cell_type": "code",
      "source": [],
      "metadata": {
        "id": "H5giTSEDkIaq"
      },
      "execution_count": null,
      "outputs": []
    },
    {
      "cell_type": "markdown",
      "source": [
        "### Docstring with Double Quotes"
      ],
      "metadata": {
        "id": "6hVJkCVekKB-"
      }
    },
    {
      "cell_type": "code",
      "source": [
        "def greet(name) :\n",
        "\n",
        "    \"\"\"\n",
        "    This function takes a name as input and prints a greeting message.\n",
        "    It uses double quotes for the docstring.\n",
        "\n",
        "    Parameters:\n",
        "    name (str): The name of the person to greet.\n",
        "\n",
        "    Returns:\n",
        "    None\n",
        "    \"\"\"\n",
        "\n",
        "    print(\"Hello, \" + name + \"!\")"
      ],
      "metadata": {
        "id": "5lCOVAObkKKM"
      },
      "execution_count": null,
      "outputs": []
    },
    {
      "cell_type": "code",
      "source": [],
      "metadata": {
        "id": "OH7hFaPFkQq0"
      },
      "execution_count": null,
      "outputs": []
    },
    {
      "cell_type": "code",
      "source": [],
      "metadata": {
        "id": "yidKuX2Mk8BQ"
      },
      "execution_count": null,
      "outputs": []
    },
    {
      "cell_type": "markdown",
      "source": [
        "## Key Takeaways:\n",
        "\n",
        "- **Positional and Keyword Arguments**:  \n",
        "  Functions can accept **both** types of arguments.  \n",
        "  - **Positional arguments** are passed in order.  \n",
        "  - **Keyword arguments** are passed by name.\n",
        "\n",
        "- **Return vs. Print**:  \n",
        "  - The **`return` statement** exits the function and sends data back for further processing.  \n",
        "  - The **`print()` function** outputs directly to the console.\n",
        "\n",
        "- **Argument Order**:  \n",
        "  Always ensure that **positional arguments** come before **keyword arguments** when calling a function.\n",
        "\n",
        "- **Docstrings**:  \n",
        "  Functions can have **docstrings** for documentation.  \n",
        "  - Use either **single quotes** or **double quotes** for docstrings.  \n",
        "  - Docstrings are typically placed inside triple quotes.\n"
      ],
      "metadata": {
        "id": "WqEGhOhuk8V3"
      }
    },
    {
      "cell_type": "code",
      "source": [],
      "metadata": {
        "id": "VRSfKWvglK5n"
      },
      "execution_count": null,
      "outputs": []
    },
    {
      "cell_type": "code",
      "source": [],
      "metadata": {
        "id": "HReqM_QNloav"
      },
      "execution_count": null,
      "outputs": []
    },
    {
      "cell_type": "markdown",
      "source": [
        "# Assigment Problems"
      ],
      "metadata": {
        "id": "xZd3K904mDMd"
      }
    },
    {
      "cell_type": "code",
      "source": [],
      "metadata": {
        "id": "3C5SQ1vmmGki"
      },
      "execution_count": null,
      "outputs": []
    },
    {
      "cell_type": "code",
      "source": [],
      "metadata": {
        "id": "bl4sS5FUmGoc"
      },
      "execution_count": null,
      "outputs": []
    },
    {
      "cell_type": "markdown",
      "source": [
        "## Problem 1"
      ],
      "metadata": {
        "id": "1AnR92jynsvB"
      }
    },
    {
      "cell_type": "code",
      "source": [
        "# What is the output of the code?\n",
        "\n",
        "'''\n",
        "\n",
        "def convert(t):\n",
        "    return t*9/5 + 32\n",
        "\n",
        "print(convert(20))\n",
        "\n",
        "Note: The Question is with respect to Python 3.0 version.\n",
        "\n",
        "'''\n",
        "# Answer - 68.0"
      ],
      "metadata": {
        "id": "c5G8kUv3nu_y"
      },
      "execution_count": null,
      "outputs": []
    },
    {
      "cell_type": "code",
      "source": [],
      "metadata": {
        "id": "Rc8u5CZgtybM"
      },
      "execution_count": null,
      "outputs": []
    },
    {
      "cell_type": "markdown",
      "source": [
        "## Problem 2"
      ],
      "metadata": {
        "id": "sd3LBD-o2jVx"
      }
    },
    {
      "cell_type": "code",
      "source": [
        "'''\n",
        "\n",
        "Problem Description -\n",
        "\n",
        "Given the temperature of a day in Degrees Celsius, convert this given temperature from Celsius to Fahrenheit. Complete the function to do so. Round the output up to 2 decimal places\n",
        "\n",
        "Note:\n",
        "To round up the values -\n",
        "Python : Use round(ans,2) to round up ans to two decimals\n",
        "Java : Use Math.round(val*100)/100d to round upto two decimals\n",
        "The formula to convert Celsius to Fahrenheit is: F = (9/5 * C) + 32\n",
        "You need not take input in this problem, you need to only implement the function provided.\n",
        "\n",
        "Input Format:\n",
        "First and the only line has input in float format representing the temperature.\n",
        "\n",
        "Output Format:\n",
        "Fahrenheit value in float format\n",
        "\n",
        "Sample Input:\n",
        "36.8\n",
        "\n",
        "Sample Output:\n",
        "98.24\n",
        "\n",
        "'''\n",
        "# Function definition -> \"def\" is the keyword\n",
        "\n",
        "def celsius_farhen(Celsius) :\n",
        "\n",
        "    # Initialize the variable to store the result\n",
        "\n",
        "    ans = 0\n",
        "\n",
        "    # Convert Celsius to Fahrenheit using the formula: (Celsius * 9/5) + 32\n",
        "\n",
        "    ans = Celsius * 9 / 5 + 32\n",
        "\n",
        "    # Return the result rounded to two decimal places\n",
        "\n",
        "    return round(ans, 2)\n",
        "\n",
        "# Calling the function with a Celsius value (36.8) to convert to Fahrenheit\n",
        "\n",
        "celsius_farhen(36.8)"
      ],
      "metadata": {
        "colab": {
          "base_uri": "https://localhost:8080/"
        },
        "id": "__DurLem2lEH",
        "outputId": "dadceb92-464f-4489-8aee-e63f76dabb87"
      },
      "execution_count": null,
      "outputs": [
        {
          "output_type": "execute_result",
          "data": {
            "text/plain": [
              "98.24"
            ]
          },
          "metadata": {},
          "execution_count": 54
        }
      ]
    },
    {
      "cell_type": "code",
      "source": [],
      "metadata": {
        "id": "avME4_TN23HZ"
      },
      "execution_count": null,
      "outputs": []
    },
    {
      "cell_type": "markdown",
      "source": [
        "## Problem 3"
      ],
      "metadata": {
        "id": "g3qVRMqk3GYI"
      }
    },
    {
      "cell_type": "code",
      "source": [
        "'''\n",
        "Problem Description -\n",
        "\n",
        "Write a function to calculate and return the area of a circle by using the radius of the circle given as a parameter.\n",
        "\n",
        "Notes:\n",
        "Round up the area to 2 decimal places. You can use the round() function.\n",
        "Use pi as 3.14159.\n",
        "You need not take input in this problem, you need to only implement the function provided.\n",
        "\n",
        "Input Format:\n",
        "The first line indicates the number of the test cases.\n",
        "For each test case there will be one line of input in integer format representing radius.\n",
        "\n",
        "Output Format:\n",
        "Area in float format rounded upto 2 decimal places for each testcase.\n",
        "\n",
        "Sample Input:\n",
        "1\n",
        "5\n",
        "\n",
        "Sample Output:\n",
        "78.54\n",
        "\n",
        "Sample explanation:\n",
        "The area for circle with radius 5cm is 3.14159 x (5 x 5) = 78.53975 cm2\n",
        "\n",
        "After rounding by 2 digits, it becomes 78.54 cm2\n",
        "\n",
        "'''\n",
        "# Function definition -> \"def\" is the keyword\n",
        "\n",
        "def circle_area(r) :\n",
        "\n",
        "    # Initialize the variable to store the result\n",
        "\n",
        "    ans = None\n",
        "\n",
        "    # Docstring: Describes the purpose of the function\n",
        "\n",
        "    '''input: r = A numerical value as radius\n",
        "       output: Return the area of circle as ans upto 2 decimal places'''\n",
        "\n",
        "    # Define the value of pi\n",
        "\n",
        "    pi = 3.14159\n",
        "\n",
        "    # Calculate the area of the circle using the formula: pi * r^2\n",
        "\n",
        "    ans = pi * r * r\n",
        "\n",
        "    # Return the area rounded to two decimal places\n",
        "\n",
        "    return round(ans, 2)\n",
        "\n",
        "# Calling the function with radius value 'r' to calculate the area\n",
        "\n",
        "circle_area(5)"
      ],
      "metadata": {
        "colab": {
          "base_uri": "https://localhost:8080/"
        },
        "id": "_mLBLC_q3IKP",
        "outputId": "f8f3185a-b417-47dd-de4c-8b6fc32e9d66"
      },
      "execution_count": null,
      "outputs": [
        {
          "output_type": "execute_result",
          "data": {
            "text/plain": [
              "78.54"
            ]
          },
          "metadata": {},
          "execution_count": 55
        }
      ]
    },
    {
      "cell_type": "code",
      "source": [],
      "metadata": {
        "id": "3x8U06F23etY"
      },
      "execution_count": null,
      "outputs": []
    },
    {
      "cell_type": "markdown",
      "source": [
        "## Problem 4"
      ],
      "metadata": {
        "id": "jQ5809Ka3jFQ"
      }
    },
    {
      "cell_type": "code",
      "source": [
        "'''\n",
        "\n",
        "Problem Description -\n",
        "\n",
        "Given an integer n, write a program to return the sum of squares of first n natural numbers in integer format.\n",
        "\n",
        "Note1:\n",
        "The formula for the sum of squares of first n natural numbers is: n(n+1)(2n+1)/6\n",
        "\n",
        "Note2:\n",
        "You need not take input in this problem, only implement the function provided.\n",
        "\n",
        "Problem Constraints:\n",
        "1 <= N <= 100\n",
        "\n",
        "Input Format:\n",
        "The first line indicates the number of test cases.\n",
        "For each testcase there will be a single line of input with an integer representing n for that testcase.\n",
        "\n",
        "Output Format:\n",
        "Sum of squares of n natural numbers in integer format\n",
        "\n",
        "Sample Input:\n",
        "1\n",
        "6\n",
        "\n",
        "Sample Output:\n",
        "91\n",
        "\n",
        "Sample explanation:\n",
        "According to the formula sum of first 6 natural numbers is 6*(6+1)(12+1)/6=91\n",
        "\n",
        "'''\n",
        "# Function definition -> \"def\" is the keyword\n",
        "\n",
        "def sum_squares(n) :\n",
        "\n",
        "    # Initialize the variable to store the result\n",
        "\n",
        "    ans = None\n",
        "\n",
        "    # Docstring: Describes the purpose of the function\n",
        "\n",
        "    ''' input: Given Integer n\n",
        "         output: Return ans as sum of squares in integer format.'''\n",
        "\n",
        "    # Formula to calculate the sum of squares of the first n numbers\n",
        "\n",
        "    ans = n * (n + 1) * (2 * n + 1) / 6\n",
        "\n",
        "    # Return the result as an integer\n",
        "\n",
        "    return int(ans)\n",
        "\n",
        "# Calling the function with an integer value 'n' to calculate the sum of squares\n",
        "\n",
        "sum_squares(6)"
      ],
      "metadata": {
        "colab": {
          "base_uri": "https://localhost:8080/"
        },
        "id": "6iWIPLXR3lDB",
        "outputId": "04be4d3d-f7d9-45a9-ef45-c44e209af14e"
      },
      "execution_count": null,
      "outputs": [
        {
          "output_type": "execute_result",
          "data": {
            "text/plain": [
              "91"
            ]
          },
          "metadata": {},
          "execution_count": 56
        }
      ]
    },
    {
      "cell_type": "code",
      "source": [],
      "metadata": {
        "id": "WHzw6yLB39AS"
      },
      "execution_count": null,
      "outputs": []
    },
    {
      "cell_type": "markdown",
      "source": [
        "## Problem 5"
      ],
      "metadata": {
        "id": "-ZPQB2Gf4Aou"
      }
    },
    {
      "cell_type": "code",
      "source": [
        "# What is the output of the following function call?\n",
        "\n",
        "'''\n",
        "\n",
        "def 1f(num):\n",
        "  return num + 55\n",
        "1f(5)\n",
        "print(num)\n",
        "\n",
        "'''\n",
        "# Answer - The function name “1f” is not legal.\n",
        "# Function names cannot start with numbers.\n",
        "# Moreover, the variable num doesn’t exist outside the function 1f.\n",
        "# Therefore even if the function name was legal it’d have thrown error because num is not defined outside function."
      ],
      "metadata": {
        "id": "3PO2Ty7v4CJi"
      },
      "execution_count": null,
      "outputs": []
    },
    {
      "cell_type": "code",
      "source": [],
      "metadata": {
        "id": "rm0O_Eip4RYa"
      },
      "execution_count": null,
      "outputs": []
    },
    {
      "cell_type": "markdown",
      "source": [
        "## Problem 6"
      ],
      "metadata": {
        "id": "S0PyO3Y74Rfj"
      }
    },
    {
      "cell_type": "code",
      "source": [
        "# Which of the following keyword terminates the function and transfers the flow of execution, to the caller of the function?\n",
        "\n",
        "# Answer - return"
      ],
      "metadata": {
        "id": "wf8zRYJy4Tan"
      },
      "execution_count": null,
      "outputs": []
    },
    {
      "cell_type": "code",
      "source": [],
      "metadata": {
        "id": "E0_xDyz84kOH"
      },
      "execution_count": null,
      "outputs": []
    },
    {
      "cell_type": "markdown",
      "source": [
        "## Problem 7"
      ],
      "metadata": {
        "id": "M5oKOBB54kbS"
      }
    },
    {
      "cell_type": "code",
      "source": [
        "'''\n",
        "\n",
        "Problem Description -\n",
        "\n",
        "You are given a lowercase latin alphabetic character C. You have to tell whether it is a vowel or not.\n",
        "The characters 'a', 'e', 'i', 'o', and 'u' are called vowels.\n",
        "\n",
        "Note: You just have to write the code inside the function and return the result. The input and output is handled in the backend.\n",
        "\n",
        "\n",
        "\n",
        "Problem Constraints:\n",
        "C ∈ ['a' - 'z']\n",
        "\n",
        "Input Format:\n",
        "The input consists of a single character C.\n",
        "\n",
        "Output Format:\n",
        "Return 1 if the given character is a vowel, else return 0.\n",
        "\n",
        "Example Input 1:\n",
        "a\n",
        "\n",
        "Example Onput 1:\n",
        "1\n",
        "\n",
        "Explanation:\n",
        "since, 'a' is a vowel.\n",
        "\n",
        "Example Input 2:\n",
        "b\n",
        "\n",
        "Example Output 2:\n",
        "0\n",
        "\n",
        "Explanation:\n",
        "since, 'b' is a consonant (not a vowel).\n",
        "\n",
        "'''\n",
        "# 1 Way\n",
        "\n",
        "# Function definition -> \"def\" is the keyword\n",
        "\n",
        "def isvowel(C):\n",
        "\n",
        "    # Initialize the variable to store the result\n",
        "\n",
        "    ans = None\n",
        "\n",
        "    # Check if the character is a vowel\n",
        "\n",
        "    if C == 'a' :\n",
        "        return 1\n",
        "    elif C == 'e' :\n",
        "        return 1\n",
        "    elif C == 'i' :\n",
        "        return 1\n",
        "    elif C == 'o' :\n",
        "        return 1\n",
        "    elif C == 'u' :\n",
        "        return 1\n",
        "    else :\n",
        "        return 0\n",
        "\n",
        "# Calling the function with a character to check if it's a vowel\n",
        "\n",
        "isvowel('a')"
      ],
      "metadata": {
        "colab": {
          "base_uri": "https://localhost:8080/"
        },
        "id": "PC0RsOzj4mXu",
        "outputId": "662975d9-5b69-43bd-fa11-d46aa8dc9894"
      },
      "execution_count": null,
      "outputs": [
        {
          "output_type": "execute_result",
          "data": {
            "text/plain": [
              "1"
            ]
          },
          "metadata": {},
          "execution_count": 57
        }
      ]
    },
    {
      "cell_type": "code",
      "source": [
        "# 2 Way\n",
        "\n",
        "# Function definition -> \"def\" is the keyword\n",
        "\n",
        "def isvowel(C) :\n",
        "\n",
        "    # Initialize the variable to store the result\n",
        "\n",
        "    ans = None\n",
        "\n",
        "    # Check if the character is a vowel and assign the result\n",
        "\n",
        "    if C == \"a\":\n",
        "        ans = 1\n",
        "    elif C == 'e':\n",
        "        ans = 1\n",
        "    elif C == 'i':\n",
        "        ans = 1\n",
        "    elif C == 'o':\n",
        "        ans = 1\n",
        "    elif C == 'u':\n",
        "        ans = 1\n",
        "    else :\n",
        "        ans = 0\n",
        "\n",
        "    # Return the result (1 for vowel, 0 for non-vowel)\n",
        "\n",
        "    return ans\n",
        "\n",
        "# Calling the function with a character to check if it's a vowel\n",
        "\n",
        "isvowel('b')"
      ],
      "metadata": {
        "colab": {
          "base_uri": "https://localhost:8080/"
        },
        "id": "aX7g6oGy5Bg6",
        "outputId": "a743ae43-0435-4e83-af94-c6d0df499e1e"
      },
      "execution_count": null,
      "outputs": [
        {
          "output_type": "execute_result",
          "data": {
            "text/plain": [
              "0"
            ]
          },
          "metadata": {},
          "execution_count": 59
        }
      ]
    },
    {
      "cell_type": "code",
      "source": [],
      "metadata": {
        "id": "5UD7VHGf5LqM"
      },
      "execution_count": null,
      "outputs": []
    },
    {
      "cell_type": "code",
      "source": [],
      "metadata": {
        "id": "7SBJF70S5RLE"
      },
      "execution_count": null,
      "outputs": []
    },
    {
      "cell_type": "markdown",
      "source": [
        "# Additional Problems"
      ],
      "metadata": {
        "id": "OcD59Det5RZA"
      }
    },
    {
      "cell_type": "code",
      "source": [],
      "metadata": {
        "id": "S_lkllPE5UK0"
      },
      "execution_count": null,
      "outputs": []
    },
    {
      "cell_type": "code",
      "source": [],
      "metadata": {
        "id": "-InoXEDr5UON"
      },
      "execution_count": null,
      "outputs": []
    },
    {
      "cell_type": "markdown",
      "source": [
        "## Problem 1"
      ],
      "metadata": {
        "id": "VFy4Wx-f5UlR"
      }
    },
    {
      "cell_type": "code",
      "source": [
        "'''\n",
        "\n",
        "Problem Description -\n",
        "\n",
        "Write a program to print all Natural numbers from 1 to N and from N to 1 inclusive, where N is given as an argument.\n",
        "Note1: First print from 1 to N then in new line print again from N to 1\n",
        "Note2: You need not take input in this problem, you need to only implement the function provided.\n",
        "Note3: There is 1 line gap between two output lines and a space between numbers in same line.\n",
        "\n",
        "Problem Constraints:\n",
        "1 <= N <= 1000\n",
        "\n",
        "Input Format:\n",
        "The first line indicates the number of test cases t\n",
        "The next t lines will have different values of N according to testcases\n",
        "\n",
        "Output Format:\n",
        "For each testcase there will be two lines of output:\n",
        "The first line is N space-separated integers from 1 to N.\n",
        "The next line is N space-separated integers from N to 1.\n",
        "\n",
        "Sample Input:\n",
        "1\n",
        "5\n",
        "\n",
        "Sample Output:\n",
        "1 2 3 4 5\n",
        "5 4 3 2 1\n",
        "\n",
        "'''\n",
        "\n",
        "# Function definition -> \"def\" is the keyword\n",
        "\n",
        "def sequence(n) :\n",
        "\n",
        "    '''input: n = A single integer for the range where n is inclusive\n",
        "       output: First Print from 1 to N and new line Print from N to 1'''\n",
        "\n",
        "    # First loop: Print numbers from 1 to n in one line\n",
        "\n",
        "    for Value in range(1, n + 1, 1) :\n",
        "        if Value == n :\n",
        "            print(Value)  # Print the last number followed by a new line\n",
        "        else :\n",
        "            print(Value, end=\" \")  # Print numbers with space separation\n",
        "\n",
        "    # Second loop: Print numbers from n to 1 in one line\n",
        "\n",
        "    for Info in range(n, 0, -1) :\n",
        "        if Info > 1 :\n",
        "            print(Info, end=\" \")  # Print numbers with space separation\n",
        "        else :\n",
        "            print(Info)  # Print the last number with a new line\n",
        "\n",
        "# Calling the function with an integer n to generate the sequence\n",
        "\n",
        "sequence(5)"
      ],
      "metadata": {
        "colab": {
          "base_uri": "https://localhost:8080/"
        },
        "id": "oAXzWQo-5Wcy",
        "outputId": "3888152a-9ec7-4173-dde8-70a4eed57342"
      },
      "execution_count": null,
      "outputs": [
        {
          "output_type": "stream",
          "name": "stdout",
          "text": [
            "1 2 3 4 5\n",
            "5 4 3 2 1\n"
          ]
        }
      ]
    },
    {
      "cell_type": "code",
      "source": [],
      "metadata": {
        "id": "Ejxb0yuH51nB"
      },
      "execution_count": null,
      "outputs": []
    },
    {
      "cell_type": "markdown",
      "source": [
        "## Problem 2"
      ],
      "metadata": {
        "id": "r05xcvfE57wu"
      }
    },
    {
      "cell_type": "code",
      "source": [
        "'''\n",
        "\n",
        "Problem Description -\n",
        "\n",
        "Write a program to calculate the total amount if the principal amount, simple interest rate per annum,\n",
        "and time in the number of days are given. The simple interest rate per annum is provided as a percentage.\n",
        "Assuming that there are 365 days in a year, print the total amount rounded up to 2 decimal places.\n",
        "\n",
        "Note 1: Use round(ans,2) to round up ans up to two decimals\n",
        "Note 2: You need not take input in this problem, you need only to implement the function provided.\n",
        "\n",
        "Input Format:\n",
        "For each testcase there will be three lines of input as follows:\n",
        "The 3 lines have numbers\n",
        "The first line describes the time in number of days in int format\n",
        "The second line describes the principal amount in float format\n",
        "The third line describes the interest rate per annum in percentage in float format\n",
        "\n",
        "Output Format:\n",
        "Total amount in float format\n",
        "\n",
        "Sample Input:\n",
        "1\n",
        "789\n",
        "10000.0\n",
        "1.3\n",
        "\n",
        "Sample Output:\n",
        "10281.01\n",
        "\n",
        "'''\n",
        "\n",
        "# Function definition -> \"def\" is the keyword\n",
        "\n",
        "def simple_int(time, pa, ir) :\n",
        "\n",
        "    ''' time, pa, ir represents the time in number of days, principal amount and rate of interest\n",
        "        Return the simple interest'''\n",
        "\n",
        "    # Initialize the variable to store the result\n",
        "\n",
        "    ans = 0\n",
        "\n",
        "    # Calculate simple interest using the formula: SI = P * (1 + (T/365) * (R/100))\n",
        "\n",
        "    si = pa * (1 + (time / 365) * (ir / 100))\n",
        "\n",
        "    # Store the result in ans\n",
        "\n",
        "    ans = si\n",
        "\n",
        "    # Return the simple interest rounded to two decimal places\n",
        "\n",
        "    return round(ans, 2)\n",
        "\n",
        "# Calling the function with parameters (time in days, principal amount, interest rate)\n",
        "\n",
        "simple_int(789, 10000.0, 1.3)"
      ],
      "metadata": {
        "colab": {
          "base_uri": "https://localhost:8080/"
        },
        "id": "mYgW5sur5_Mw",
        "outputId": "5b46a70f-0ebf-41b4-fb50-26d30b4a5fbc"
      },
      "execution_count": null,
      "outputs": [
        {
          "output_type": "execute_result",
          "data": {
            "text/plain": [
              "10281.01"
            ]
          },
          "metadata": {},
          "execution_count": 62
        }
      ]
    },
    {
      "cell_type": "code",
      "source": [],
      "metadata": {
        "id": "Xq-_kpCO6TwH"
      },
      "execution_count": null,
      "outputs": []
    },
    {
      "cell_type": "markdown",
      "source": [
        "## Problem 3"
      ],
      "metadata": {
        "id": "aOEuYB6a6kVf"
      }
    },
    {
      "cell_type": "code",
      "source": [
        "'''\n",
        "Problem Description -\n",
        "\n",
        "Write a program that takes the cost price of a vehicle as an argument and returns the road tax, that the vehicle owner has to pay according to the following criteria:\n",
        "\n",
        "Note1: Return the tax up to one decimal place. You can use round(tax,1)\n",
        "Note2: You need not take input in this problem, you need to only implement the function provided.\n",
        "\n",
        "Input Format:\n",
        "The first line indicates the number of test cases. For each testcase there will be a single line of input representing the cost price.\n",
        "\n",
        "Output Format:\n",
        "Return tax in float format.\n",
        "\n",
        "Sample Input 1:\n",
        "1\n",
        "25000\n",
        "\n",
        "Sample Output 2:\n",
        "1250.0\n",
        "\n",
        "Sample Explanation 1\n",
        "The given cost price of vehicle is 25000 which is less than 50,000.\n",
        "Hence the tax applicable is 5%. So if we calculate 5% of 25,000, it evaluates to 1250.0.\n",
        "\n",
        "Sample Input 2:\n",
        "1\n",
        "60000\n",
        "\n",
        "Sample Output 2:\n",
        "6000.0\n",
        "\n",
        "Sample Explanation 2\n",
        "The given cost price of vehicle is 60,000 which is greater than 50,000 but less than 75,000.\n",
        "Hence the tax applicable is 10%. So if we calculate 10% of 60,000, it evaluates to 6000.0.\n",
        "\n",
        "'''\n",
        "\n",
        "# Function definition -> \"def\" is the keyword\n",
        "\n",
        "def road_tax(price) :\n",
        "\n",
        "    ''' input: price = The price of the vehicle\n",
        "        output: Returns the road tax based on the price of the vehicle rounded to 1 decimal place '''\n",
        "\n",
        "    # Initialize the variable to store the road tax\n",
        "\n",
        "    tax = None\n",
        "\n",
        "    # Calculate tax based on the price ranges\n",
        "\n",
        "    if price > 100000 :\n",
        "        tax = price * 0.2  # 20% tax for price above 100,000\n",
        "    elif price > 75000 and price <= 100000 :\n",
        "        tax = price * 0.15  # 15% tax for price between 75,000 and 100,000\n",
        "    elif price > 50000 and price <= 75000 :\n",
        "        tax = price * 0.10  # 10% tax for price between 50,000 and 75,000\n",
        "    else :\n",
        "        tax = price * 0.05  # 5% tax for price below or equal to 50,000\n",
        "\n",
        "    # Return the tax rounded to one decimal place\n",
        "\n",
        "    return round(tax, 1)\n",
        "\n",
        "# Calling the function with a vehicle price\n",
        "\n",
        "road_tax(60000)"
      ],
      "metadata": {
        "colab": {
          "base_uri": "https://localhost:8080/"
        },
        "id": "V5KFgcoy6mYe",
        "outputId": "6424e2f0-23fe-4437-b2ed-5ec828cec761"
      },
      "execution_count": null,
      "outputs": [
        {
          "output_type": "execute_result",
          "data": {
            "text/plain": [
              "6000.0"
            ]
          },
          "metadata": {},
          "execution_count": 63
        }
      ]
    },
    {
      "cell_type": "code",
      "source": [],
      "metadata": {
        "id": "yREAGYMJ7GcK"
      },
      "execution_count": null,
      "outputs": []
    },
    {
      "cell_type": "markdown",
      "source": [
        "## Problem 4"
      ],
      "metadata": {
        "id": "OvyNkEJ47KIp"
      }
    },
    {
      "cell_type": "code",
      "source": [
        "# What does the following code print?\n",
        "\n",
        "'''\n",
        "\n",
        "x = 55\n",
        "def hi():\n",
        "  return x\n",
        "x +=10\n",
        "print(hi())\n",
        "\n",
        "'''\n",
        "\n",
        "# Answer - 65"
      ],
      "metadata": {
        "id": "qfQT1sQk7MBv"
      },
      "execution_count": null,
      "outputs": []
    },
    {
      "cell_type": "code",
      "source": [],
      "metadata": {
        "id": "63u1wXbD7VVI"
      },
      "execution_count": null,
      "outputs": []
    },
    {
      "cell_type": "markdown",
      "source": [
        "## Problem 5"
      ],
      "metadata": {
        "id": "cXp_qGR57Vgl"
      }
    },
    {
      "cell_type": "code",
      "source": [
        "'''\n",
        "\n",
        "Problem Description -\n",
        "\n",
        "Write a function to print a pattern similar to the one shown in the sample using n which is given to you as an argument to a function. Here n defines the number of rows.\n",
        "\n",
        "Note: There are no spaces between the stars in the first row, and there are no spaces at the end of each row.\n",
        "\n",
        "Input Format:\n",
        "The only argument to the function in an integer n.\n",
        "\n",
        "Output Format:\n",
        "Print Star Pattern in string format for each testcase.\n",
        "\n",
        "Sample Input:\n",
        "8\n",
        "\n",
        "Sample Output:\n",
        "********\n",
        "*     *\n",
        "*    *\n",
        "*   *\n",
        "*  *\n",
        "* *\n",
        "**\n",
        "*\n",
        "\n",
        "Sample Explanation:\n",
        "In the first row, (n=8) stars are printed.\n",
        "In the second row, 2 stars are printed with 5 spaces between them.\n",
        "This number of spaces keeps decreasing by 1 after the second row until the last row where the number of spaces becomes zero and only one star is printed.\n",
        "\n",
        "'''\n",
        "\n",
        "# Function definition -> \"def\" is the keyword\n",
        "\n",
        "def star(n) :\n",
        "\n",
        "    ''' input: n = The number of rows for the star pattern\n",
        "        output: Prints a pattern of stars in a specific shape based on the input number n '''\n",
        "\n",
        "    # Loop from 1 to n for rows\n",
        "\n",
        "    for i in range(1, n + 1) :\n",
        "\n",
        "        # Loop from i to n for columns in each row\n",
        "\n",
        "        for j in range(i, n + 1) :\n",
        "\n",
        "            # Print star for specific conditions (first row, last row, or diagonal)\n",
        "\n",
        "            if i == j or i == 1 or j == n :\n",
        "                print('*', end = '')  # Print a star\n",
        "            else:\n",
        "                print(' ', end = '')  # Print a space\n",
        "        # Move to the next line after printing a row\n",
        "\n",
        "        print()\n",
        "\n",
        "# Calling the function with an example input\n",
        "\n",
        "star(8)"
      ],
      "metadata": {
        "colab": {
          "base_uri": "https://localhost:8080/"
        },
        "id": "CcGo5-uk7XFL",
        "outputId": "ca9b6a4a-f991-4aca-c7ea-74527922c233"
      },
      "execution_count": null,
      "outputs": [
        {
          "output_type": "stream",
          "name": "stdout",
          "text": [
            "********\n",
            "*     *\n",
            "*    *\n",
            "*   *\n",
            "*  *\n",
            "* *\n",
            "**\n",
            "*\n"
          ]
        }
      ]
    },
    {
      "cell_type": "code",
      "source": [],
      "metadata": {
        "id": "23YL-pzC72YU"
      },
      "execution_count": null,
      "outputs": []
    },
    {
      "cell_type": "markdown",
      "source": [
        "## Problem 6"
      ],
      "metadata": {
        "id": "3I4NJx0v75I4"
      }
    },
    {
      "cell_type": "code",
      "source": [
        "'''\n",
        "\n",
        "Problem Description -\n",
        "\n",
        "Write a function to check whether a given number n as an input to the function is a perfect number or not.\n",
        "If the given integer is a perfect number return 1 else return 0.\n",
        "\n",
        "Note: In number theory, a perfect number is a positive integer that is equal to the sum of its proper positive divisors, that is, the sum of its positive divisors excluding the number itself (also known as its aliquot sum).\n",
        "\n",
        "Input Format:\n",
        "The only argument to the function is an integer n.\n",
        "\n",
        "Output Format:\n",
        "Print out 1 if the number is perfect else 0 in integer format.\n",
        "\n",
        "Sample Input:\n",
        "6\n",
        "\n",
        "Sample Output:\n",
        "1\n",
        "\n",
        "Sample Explanation:\n",
        "Given number is 6. 1, 2, and 3 are its proper positive divisors, and 1 + 2 + 3 = 6.\n",
        "Equivalently, the number 6 is equal to half the sum of all its positive divisors: ( 1 + 2 + 3 + 6 ) / 2 = 6. Hence 6 is a perfect number.\n",
        "\n",
        "'''\n",
        "# Function definition -> \"def\" is the keyword\n",
        "\n",
        "def perfect_number(Num) :\n",
        "\n",
        "    ''' input: Num = An integer value\n",
        "        output: return 1 if the number is a perfect number, else return 0'''\n",
        "\n",
        "    # Initialize a variable to store the sum of divisors\n",
        "\n",
        "    Sum = 0\n",
        "\n",
        "    # Loop through all numbers from 1 to Num-1\n",
        "\n",
        "    for Value in range(1, Num) :\n",
        "\n",
        "        # If Value is a divisor of Num, add it to the sum\n",
        "\n",
        "        if Num % Value == 0 :\n",
        "            Sum += Value\n",
        "\n",
        "    # If the sum of divisors is equal to the number itself, it's a perfect number\n",
        "\n",
        "    if Sum == Num :\n",
        "        return 1  # Return 1 if the number is perfect\n",
        "    else :\n",
        "        return 0  # Return 0 if the number is not perfect\n",
        "\n",
        "# Example of calling the function\n",
        "\n",
        "perfect_number(6)  # 6 is a perfect number, so the function should return 1"
      ],
      "metadata": {
        "colab": {
          "base_uri": "https://localhost:8080/"
        },
        "id": "vkHnxrea76uJ",
        "outputId": "3fceba44-3ef1-4417-c3f8-92ff20aac511"
      },
      "execution_count": null,
      "outputs": [
        {
          "output_type": "execute_result",
          "data": {
            "text/plain": [
              "1"
            ]
          },
          "metadata": {},
          "execution_count": 65
        }
      ]
    },
    {
      "cell_type": "code",
      "source": [],
      "metadata": {
        "id": "M79HmaEu8XKq"
      },
      "execution_count": null,
      "outputs": []
    },
    {
      "cell_type": "markdown",
      "source": [
        "## Problem 7"
      ],
      "metadata": {
        "id": "v6VKvPrD8ZzH"
      }
    },
    {
      "cell_type": "code",
      "source": [
        "'''\n",
        "\n",
        "Problem Description -\n",
        "\n",
        "You are given a positive integer r denoting the radius of a sphere as a parameter.\n",
        "Write a program to calculate the volume of the sphere. The volume of a sphere having radius R is given by (4 * π * R3) / 3.\n",
        "\n",
        "NOTE: Return the volume of the sphere up to two decimal places. You can use round().\n",
        "NOTE2: Use pi as 22/7 (not math.pi).\n",
        "\n",
        "Input Format:\n",
        "The first line indicates the number of the test cases. For each testcase there will be one line of input:\n",
        "The one line contains r in integer format.\n",
        "\n",
        "Output Format:\n",
        "The volume of the sphere in float format is printed for each testcase in a new line.\n",
        "\n",
        "Sample Input:\n",
        "1\n",
        "8\n",
        "\n",
        "Sample Output:\n",
        "2145.52\n",
        "\n",
        "'''\n",
        "\n",
        "# Function definition -> \"def\" is the keyword\n",
        "\n",
        "def volume_sphere(r) :\n",
        "\n",
        "    ''' input: r = Input in integer format for the radius of the sphere\n",
        "        output: return the volume of the sphere rounded to two decimal places'''\n",
        "\n",
        "    # Initialize the volume variable\n",
        "\n",
        "    Vol = None\n",
        "\n",
        "    # Use an approximation of pi (22/7)\n",
        "\n",
        "    pi = 22 / 7\n",
        "\n",
        "    # Calculate the volume of the sphere using the formula (4/3 * π * r^3)\n",
        "\n",
        "    Vol = 4 * pi * r**3 / 3\n",
        "\n",
        "    # Return the volume rounded to two decimal places\n",
        "\n",
        "    return round(Vol, 2)\n",
        "\n",
        "# Example of calling the function\n",
        "\n",
        "volume_sphere(8)  # The radius of the sphere is 5, so it will return the volume"
      ],
      "metadata": {
        "colab": {
          "base_uri": "https://localhost:8080/"
        },
        "id": "YCg-2jZ28d8j",
        "outputId": "f8f52ef0-0a35-4fee-805e-2999d6fd9269"
      },
      "execution_count": null,
      "outputs": [
        {
          "output_type": "execute_result",
          "data": {
            "text/plain": [
              "2145.52"
            ]
          },
          "metadata": {},
          "execution_count": 66
        }
      ]
    },
    {
      "cell_type": "code",
      "source": [],
      "metadata": {
        "id": "_VZmENyT86At"
      },
      "execution_count": null,
      "outputs": []
    },
    {
      "cell_type": "code",
      "source": [],
      "metadata": {
        "id": "oR_X36NC8_hl"
      },
      "execution_count": null,
      "outputs": []
    },
    {
      "cell_type": "code",
      "source": [],
      "metadata": {
        "id": "bst51ADg8_mt"
      },
      "execution_count": null,
      "outputs": []
    },
    {
      "cell_type": "code",
      "source": [],
      "metadata": {
        "id": "0rZOs5wf8_rb"
      },
      "execution_count": null,
      "outputs": []
    },
    {
      "cell_type": "code",
      "source": [],
      "metadata": {
        "id": "oIyCpnml8_x8"
      },
      "execution_count": null,
      "outputs": []
    }
  ]
}