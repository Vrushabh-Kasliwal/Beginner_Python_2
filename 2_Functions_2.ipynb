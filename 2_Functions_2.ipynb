{
  "nbformat": 4,
  "nbformat_minor": 0,
  "metadata": {
    "colab": {
      "provenance": []
    },
    "kernelspec": {
      "name": "python3",
      "display_name": "Python 3"
    },
    "language_info": {
      "name": "python"
    }
  },
  "cells": [
    {
      "cell_type": "code",
      "execution_count": null,
      "metadata": {
        "id": "Lrvgl6REupD2"
      },
      "outputs": [],
      "source": []
    },
    {
      "cell_type": "code",
      "source": [],
      "metadata": {
        "id": "vEjPDoReSWh0"
      },
      "execution_count": null,
      "outputs": []
    },
    {
      "cell_type": "code",
      "source": [
        "'''\n",
        "\n",
        "Create a date printing function -\n",
        "Should take 4 arguments -> day, month, year and style\n",
        "\n",
        "Styling Logic -\n",
        "style -> 0 -> d/m/y\n",
        "style -> 1 -> m/d/y\n",
        "style -> any other value -> Invalid Style\n",
        "\n",
        "default style is 0.\n",
        "\n",
        "'''\n",
        "\n",
        "def print_date(day, month, year, style = 0) :\n",
        "\n",
        "    # Function to print the date in different formats based on the style parameter\n",
        "\n",
        "    if style == 0 :\n",
        "\n",
        "        # If style is 0, print the date in DD/MM/YYYY format\n",
        "\n",
        "        print(day, month, year, sep = \"/\")\n",
        "\n",
        "    elif style == 1 :\n",
        "\n",
        "        # If style is 1, print the date in MM/DD/YYYY format\n",
        "\n",
        "        print(month, day, year, sep = \"/\")\n",
        "\n",
        "    else :\n",
        "\n",
        "        # If an invalid style is provided, print an error message\n",
        "\n",
        "        print(\"INVALID STYLE!\")\n",
        "\n",
        "# Calling the function with an argument\n",
        "\n",
        "print_date(5, 10, 2024)"
      ],
      "metadata": {
        "id": "WUo8YGK5uxtE",
        "colab": {
          "base_uri": "https://localhost:8080/"
        },
        "outputId": "98905cda-c0e2-4350-dd44-9a894e8aa999"
      },
      "execution_count": null,
      "outputs": [
        {
          "output_type": "stream",
          "name": "stdout",
          "text": [
            "5/10/2024\n"
          ]
        }
      ]
    },
    {
      "cell_type": "code",
      "source": [],
      "metadata": {
        "id": "ITqT7X0BRIXq"
      },
      "execution_count": null,
      "outputs": []
    },
    {
      "cell_type": "markdown",
      "source": [
        "### Custom range function"
      ],
      "metadata": {
        "id": "-tZJChhPRIgR"
      }
    },
    {
      "cell_type": "code",
      "source": [
        "#custom range function\n",
        "\n",
        "def My_range (start, stop, step) :\n",
        "\n",
        "    # Function to generate and print numbers in a range with a specified step\n",
        "\n",
        "    x = start  # Initialize x with the start value\n",
        "\n",
        "    if step > 0 :\n",
        "\n",
        "        # If step is positive, increment x until it reaches stop\n",
        "\n",
        "        while x < stop :\n",
        "            print(x, end = \" \")  # Print the current value of x\n",
        "            x += step  # Increment x by step\n",
        "    else :\n",
        "\n",
        "        # If step is negative, decrement x until it reaches stop\n",
        "\n",
        "        while x > stop :\n",
        "            print(x, end = \" \")  # Print the current value of x\n",
        "            x += step  # Decrement x by step\n",
        "\n",
        "# Calling the function with an argument\n",
        "\n",
        "My_range(1, 10, 2)"
      ],
      "metadata": {
        "colab": {
          "base_uri": "https://localhost:8080/"
        },
        "id": "pCE3am6gQItC",
        "outputId": "ab106071-c185-4e17-8a65-bf9241f3da0a"
      },
      "execution_count": null,
      "outputs": [
        {
          "output_type": "stream",
          "name": "stdout",
          "text": [
            "1 3 5 7 9 "
          ]
        }
      ]
    },
    {
      "cell_type": "code",
      "source": [
        "def My_range_2(start = 0, stop = 0, step = 1) :\n",
        "\n",
        "    \"\"\"\n",
        "    A custom implementation of the range() function.\n",
        "\n",
        "    Parameters:\n",
        "    start (int): The starting value of the sequence (default is 0).\n",
        "    stop (int): The end value of the sequence (default is 0).\n",
        "    step (int): The step size (default is 1).\n",
        "\n",
        "    Prints:\n",
        "    A sequence of numbers based on the given start, stop, and step values.\n",
        "    \"\"\"\n",
        "\n",
        "    x = start  # Initialize x with the start value\n",
        "\n",
        "    if step > 0 :  # WHEN step is positive\n",
        "        if start < stop :  # RUN THE LOOP ONLY IF START < STOP\n",
        "            while x < stop :\n",
        "                print(x, end = \" \")  # Print current value of x\n",
        "                x += step  # Increment x by step\n",
        "\n",
        "    else :  # WHEN step is negative\n",
        "        if start > stop :  # RUN THE LOOP ONLY IF STOP < START\n",
        "            while x > stop :\n",
        "                print(x, end = \" \")  # Print current value of x\n",
        "                x += step  # Decrement x by step\n",
        "\n",
        "\n",
        "# Calling the function with an argument\n",
        "\n",
        "My_range_2(10, 0, -2)"
      ],
      "metadata": {
        "colab": {
          "base_uri": "https://localhost:8080/"
        },
        "id": "jOCUDCVxQECV",
        "outputId": "431a240f-0507-49c7-cfd7-9bd651e8d12d"
      },
      "execution_count": null,
      "outputs": [
        {
          "output_type": "stream",
          "name": "stdout",
          "text": [
            "10 8 6 4 2 "
          ]
        }
      ]
    },
    {
      "cell_type": "code",
      "source": [],
      "metadata": {
        "id": "03xcljyhRp46"
      },
      "execution_count": null,
      "outputs": []
    },
    {
      "cell_type": "code",
      "source": [],
      "metadata": {
        "id": "v9KABQk0Rp8X"
      },
      "execution_count": null,
      "outputs": []
    },
    {
      "cell_type": "markdown",
      "source": [
        "\"\"\"\n",
        "# **Global and Local Variables in Python**\n",
        "\n",
        "In Python, variables can be **local** or **global**, depending on where they are declared and accessed.\n",
        "\n",
        "---\n",
        "\n",
        "## **1️⃣ Local Variables**  \n",
        "A **local variable** is a variable that is **declared inside a function** and **can only be used within that function**.  \n",
        "\n",
        "It **cannot be accessed outside the function**.\n",
        "\n",
        "### **🔹 Characteristics of Local Variables:**  \n",
        "✅ Defined **inside** a function.  \n",
        "✅ **Accessible only within** the function.  \n",
        "✅ Created when the function starts executing and **destroyed** when the function ends.\n",
        "\n",
        "### **🔹 Example of Local Variable:**  \n",
        "```python\n",
        "def example_function():\n",
        "    local_var = \"I'm a local variable\"  # Local variable\n",
        "    print(local_var)\n",
        "\n",
        "example_function()\n",
        "# print(local_var)  # This would cause an error because local_var is not accessible outside the function\n",
        "```\n",
        "\n",
        "---\n",
        "\n",
        "## **2️⃣ Global Variables**  \n",
        "A **global variable** is a variable that is **declared outside any function** and **can be accessed from any part of the program**.\n",
        "\n",
        "It **can be accessed both inside and outside functions**.\n",
        "\n",
        "### **🔹 Characteristics of Global Variables:**  \n",
        "✅ Defined **outside** any function.  \n",
        "✅ **Accessible throughout** the program.  \n",
        "✅ **Retains its value** until the program terminates.  \n",
        "✅ Can be **modified inside a function** using the `global` keyword.\n",
        "\n",
        "### **🔹 Example of Global Variable:**  \n",
        "```python\n",
        "global_var = \"I'm a global variable\"  # Global variable\n",
        "\n",
        "def example_function():\n",
        "    print(global_var)  # Accessing global variable inside function\n",
        "\n",
        "example_function()\n",
        "print(global_var)  # Accessible outside the function as well\n",
        "```\n",
        "\n",
        "---\n",
        "\n",
        "## **3️⃣ Using `global` Keyword**  \n",
        "If you want to **modify** a global variable inside a function, you must use the `global` keyword.\n",
        "\n",
        "Without `global`, Python treats a variable inside a function as **local** by default if it is assigned a value.\n",
        "\n",
        "### **🔹 Example of Modifying a Global Variable:**  \n",
        "```python\n",
        "global_var = \"Initial Value\"  # Global variable\n",
        "\n",
        "def example_function():\n",
        "    global global_var  # Declaring 'global_var' as a global variable\n",
        "    global_var = \"Modified Value\"  # Modifying the global variable\n",
        "    print(\"Inside function:\", global_var)\n",
        "\n",
        "example_function()\n",
        "print(\"Outside function:\", global_var)  # The value of 'global_var' is now changed globally\n",
        "```\n",
        "\n",
        "---\n",
        "\n",
        "## **4️⃣ Difference Between Local and Global Variables**\n",
        "| Feature  | Local Variable | Global Variable |\n",
        "|----------|--------------|----------------|\n",
        "| Scope    | Inside a function | Throughout the program |\n",
        "| Lifetime | Exists only when the function runs | Exists until the program ends |\n",
        "| Access   | Cannot be accessed outside its function | Can be accessed inside and outside functions |\n",
        "| Modification | Cannot modify global variables without `global` keyword | Can be modified anywhere |\n",
        "\"\"\"\n"
      ],
      "metadata": {
        "id": "vh4cgK6oN_xO"
      }
    },
    {
      "cell_type": "code",
      "source": [],
      "metadata": {
        "id": "E6CSqdH1uxyI"
      },
      "execution_count": null,
      "outputs": []
    },
    {
      "cell_type": "code",
      "source": [
        "Num = 10 # global variable\n",
        "\n",
        "def random1() :\n",
        "    print(\"Inside random1 -\", Num)\n",
        "\n",
        "def random2() :\n",
        "    Num = 20 # local variable\n",
        "    print(\"Inside random2 -\", Num)\n",
        "\n",
        "random1()\n",
        "random2()\n",
        "\n",
        "print(\"Outside -\", Num)"
      ],
      "metadata": {
        "id": "Rh60eawYux2M",
        "colab": {
          "base_uri": "https://localhost:8080/"
        },
        "outputId": "da52e996-dc0b-4f3b-af2f-dd566162ad58"
      },
      "execution_count": null,
      "outputs": [
        {
          "output_type": "stream",
          "name": "stdout",
          "text": [
            "Inside random1 - 10\n",
            "Inside random2 - 20\n",
            "Outside - 10\n"
          ]
        }
      ]
    },
    {
      "cell_type": "code",
      "source": [
        "Num = 10\n",
        "\n",
        "def random() :\n",
        "    global Num # Tells python that you are working with global Num in this function\n",
        "\n",
        "    Num = 20 # global Num will get updated\n",
        "    print(\"Inside the function Num -\", Num)\n",
        "\n",
        "random()\n",
        "print(\"Outside the function Num -\", Num)"
      ],
      "metadata": {
        "id": "qzmD8JrLlYnR",
        "colab": {
          "base_uri": "https://localhost:8080/"
        },
        "outputId": "3990b601-1847-43f7-a34d-38c10c824ff4"
      },
      "execution_count": null,
      "outputs": [
        {
          "output_type": "stream",
          "name": "stdout",
          "text": [
            "Inside the function Num - 20\n",
            "Outside the function Num - 20\n"
          ]
        }
      ]
    },
    {
      "cell_type": "code",
      "source": [
        "Num = 10 # global variable\n",
        "\n",
        "def random2() :\n",
        "    Num = 20 # local variable\n",
        "    print(\"Inside random2 -\", Num)\n",
        "\n",
        "random1()\n",
        "random2()\n",
        "\n",
        "Num = 500000000\n",
        "\n",
        "print(\"Outside -\", Num)"
      ],
      "metadata": {
        "colab": {
          "base_uri": "https://localhost:8080/"
        },
        "id": "TJ52rT1RSVVq",
        "outputId": "07ca29f8-56ea-40ce-b75b-d53b3400a9ba"
      },
      "execution_count": null,
      "outputs": [
        {
          "output_type": "stream",
          "name": "stdout",
          "text": [
            "Inside random1 - 10\n",
            "Inside random2 - 20\n",
            "Outside - 500000000\n"
          ]
        }
      ]
    },
    {
      "cell_type": "code",
      "source": [],
      "metadata": {
        "id": "8JbxAq6rSVYx"
      },
      "execution_count": null,
      "outputs": []
    },
    {
      "cell_type": "code",
      "source": [],
      "metadata": {
        "id": "Whnc3mCxT_SA"
      },
      "execution_count": null,
      "outputs": []
    },
    {
      "cell_type": "markdown",
      "source": [
        "# Assignment Problems"
      ],
      "metadata": {
        "id": "kdWye4_fT_j8"
      }
    },
    {
      "cell_type": "code",
      "source": [],
      "metadata": {
        "id": "m4oB-ZMHUDkl"
      },
      "execution_count": null,
      "outputs": []
    },
    {
      "cell_type": "code",
      "source": [],
      "metadata": {
        "id": "J50gkHDaUDno"
      },
      "execution_count": null,
      "outputs": []
    },
    {
      "cell_type": "markdown",
      "source": [
        "## Problem 1"
      ],
      "metadata": {
        "id": "HTbD9ZNTUEGD"
      }
    },
    {
      "cell_type": "code",
      "source": [
        "'''\n",
        "\n",
        "Problem Description -\n",
        "\n",
        "Given three integers, A, B and C. You have to find the number of days it will take to reach zero cases of Corona in a city.\n",
        "A - Average cases recovered in a day of the corona.\n",
        "B - Number of new cases of corona daily.\n",
        "C - Current active cases of the corona.\n",
        "\n",
        "Return the minimum number of days it will take to reach 0 active cases of Covid.\n",
        "\n",
        "Problem Constraints\n",
        "1 <= B < A <= 5000\n",
        "1 <= C <= 1000\n",
        "\n",
        "\n",
        "Input Format\n",
        "The first argument will be integer A, which denotes the recovered cases in a day.\n",
        "The second argument will be integer B, which denotes the new cases in a day.\n",
        "The third argument will be integer C, which denotes the currently active cases.\n",
        "\n",
        "\n",
        "Output Format\n",
        "Return an integer which denotes the minimum days to reach 0 cases.\n",
        "\n",
        "\n",
        "Example Input\n",
        "Input 1:\n",
        "A = 5\n",
        "B = 3\n",
        "C = 1\n",
        "\n",
        "Input 2:\n",
        "A = 4\n",
        "B = 3\n",
        "C = 2\n",
        "\n",
        "\n",
        "Example Output\n",
        "Output 1:\n",
        "1\n",
        "\n",
        "Output 2:\n",
        "2\n",
        "\n",
        "\n",
        "Example Explanation\n",
        "Explanation 1:\n",
        "At the end of Day 1, 3 new cases of Covid will arise.\n",
        "So, total cases at the end of Day-1 before recovery will be 1 + 3 = 4.\n",
        "And after recovery there will be (4 - 5) = -1 cases, since there cannot be negative number of cases\n",
        "the cases would be 0 at the end of Day 1\n",
        "\n",
        "Explanation 2:\n",
        "At the end of Day 1, before recovery, cases will be 2 + 3 = 5.\n",
        "After recovery 5 - 4 = 1 case\n",
        "At the end of Day 2 before recovery,cases will be 1 + 3 = 4.\n",
        "After recovery 4 - 4 = 0 case\n",
        "\n",
        "'''\n",
        "\n",
        "# Function to calculate the number of days required to reduce active corona cases to zero\n",
        "def solve(A, B, C) :\n",
        "    Count = 0  # Variable to count the number of days\n",
        "\n",
        "    # Loop until active cases (C) reach zero\n",
        "    while C > 0 :\n",
        "        C = C + B - A  # Update active cases by adding new cases (B) and subtracting recovered cases (A)\n",
        "        Count = Count + 1  # Increment day count\n",
        "\n",
        "        # If active cases become negative, set it to zero\n",
        "        if C < 0 :\n",
        "            C = 0\n",
        "\n",
        "    return Count  # Return the total number of days required\n",
        "\n",
        "\n",
        "# A - Average cases recovered in a day of the corona.\n",
        "# B - Number of new cases of corona daily.\n",
        "# C - Current active cases of the corona.\n",
        "\n",
        "print(solve(5, 3, 1))  # Example function call"
      ],
      "metadata": {
        "colab": {
          "base_uri": "https://localhost:8080/"
        },
        "id": "crkMaxd-UGPK",
        "outputId": "2d21f00e-8217-4225-adc7-2c2cc40e7585"
      },
      "execution_count": null,
      "outputs": [
        {
          "output_type": "stream",
          "name": "stdout",
          "text": [
            "1\n"
          ]
        }
      ]
    },
    {
      "cell_type": "code",
      "source": [],
      "metadata": {
        "id": "IltLySKOUGUg"
      },
      "execution_count": null,
      "outputs": []
    },
    {
      "cell_type": "markdown",
      "source": [
        "## Problem 2"
      ],
      "metadata": {
        "id": "VyqOePIhVoia"
      }
    },
    {
      "cell_type": "code",
      "source": [
        "'''\n",
        "\n",
        "Problem Description -\n",
        "\n",
        "You are given a function that takes an integer argument A. Return 1 if A is a perfect square otherwise return 0.\n",
        "A perfect square is an integer that is the square of an integer. For example 16 is perfect square as it is the square of an integer 4 (42 = 16)\n",
        "\n",
        "\n",
        "Problem Constraints\n",
        "1 <= A <= 108\n",
        "\n",
        "\n",
        "\n",
        "\n",
        "Input Format\n",
        "First argument is an integer A.\n",
        "\n",
        "\n",
        "Output Format\n",
        "Return an integer (0 or 1) based upon the question.\n",
        "\n",
        "\n",
        "\n",
        "Example Input\n",
        "Input 1:\n",
        "A = 4\n",
        "\n",
        "Input 2:\n",
        "A = 1001\n",
        "\n",
        "\n",
        "Example Output\n",
        "Output 1:\n",
        "1\n",
        "\n",
        "Output 2:\n",
        "0\n",
        "\n",
        "\n",
        "Example Explanation\n",
        "Explanation 1:\n",
        "sqrt(4) = 2\n",
        "\n",
        "Explanation 2:\n",
        "1001 is not a perfect square.\n",
        "\n",
        "'''\n",
        "\n",
        "# Function to check whether the given number A is a perfect square\n",
        "\n",
        "def isPerfectSquare(A) :\n",
        "\n",
        "    '''\n",
        "    Input: A - An integer value\n",
        "    Output: Return 1 if A is a perfect square, otherwise return 0\n",
        "    '''\n",
        "\n",
        "    # Calculate the square root of A\n",
        "\n",
        "    sqrt_A = A ** 0.5\n",
        "\n",
        "    # Check if the square root is a whole number (i.e., perfect square)\n",
        "\n",
        "    if sqrt_A == int(sqrt_A) :\n",
        "        return 1  # Return 1 if A is a perfect square\n",
        "    else :\n",
        "        return 0  # Return 0 if A is not a perfect square\n",
        "\n",
        "\n",
        "# Example Input and Output\n",
        "# A = 4 → sqrt(4) = 2 → Output: 1\n",
        "# A = 1001 → Not a perfect square → Output: 0\n",
        "\n",
        "print(isPerfectSquare(4))     # Output: 1\n",
        "print(isPerfectSquare(1001))  # Output: 0"
      ],
      "metadata": {
        "colab": {
          "base_uri": "https://localhost:8080/"
        },
        "id": "GrwiRB7lVqr3",
        "outputId": "148ccf7d-1db6-420d-f98a-542436547be2"
      },
      "execution_count": null,
      "outputs": [
        {
          "output_type": "stream",
          "name": "stdout",
          "text": [
            "1\n",
            "0\n"
          ]
        }
      ]
    },
    {
      "cell_type": "code",
      "source": [],
      "metadata": {
        "id": "JA54Vh7wWdMH"
      },
      "execution_count": null,
      "outputs": []
    },
    {
      "cell_type": "markdown",
      "source": [
        "## Problem 3"
      ],
      "metadata": {
        "id": "WXIo5jWlWhR5"
      }
    },
    {
      "cell_type": "code",
      "source": [
        "'''\n",
        "\n",
        "Problem Description -\n",
        "\n",
        "Given an integer A, find the rounded value of real number A / 200.\n",
        "Rounded value of a real number X is the integer which is nearest to X, with halfway cases rounded away from zero.\n",
        "\n",
        "Some examples:\n",
        "Rounded value of 2.4 = 2\n",
        "Rounded value of 2.5 = 3\n",
        "Rounded value of 2.6 = 3\n",
        "Rounded value of 0.0 = 0\n",
        "Rounded value of -2.4 = -2\n",
        "Rounded value of -2.5 = -3\n",
        "Rounded value of -2.6 = -3\n",
        "\n",
        "\n",
        "Problem Constraints\n",
        "-108 <= A <= 108\n",
        "\n",
        "\n",
        "Input Format\n",
        "First and only argument is an integer A.\n",
        "\n",
        "\n",
        "\n",
        "Output Format\n",
        "Return an integer denoting the rounded value of real number A / 200.\n",
        "\n",
        "\n",
        "\n",
        "Example Input\n",
        "Input 1:\n",
        "A = 2113\n",
        "\n",
        "Input 2:\n",
        "A = -2113\n",
        "\n",
        "Input 3:\n",
        "A = 7\n",
        "\n",
        "Input 4:\n",
        "A = -400\n",
        "\n",
        "\n",
        "Example Output\n",
        "Output 1:\n",
        "11\n",
        "\n",
        "Output 2:\n",
        "-11\n",
        "\n",
        "Output 3:\n",
        "0\n",
        "\n",
        "Output 4:\n",
        "-2\n",
        "\n",
        "\n",
        "Example Explanation\n",
        "Explanation 1:\n",
        "A / 200 = 2113 / 200 = 10.565\n",
        "Rounded value of 10.565 is 11.\n",
        "\n",
        "Explanation 2:\n",
        "A / 200 = -2113 / 200 = -10.565\n",
        "Rounded value of -10.565 is -11.\n",
        "\n",
        "Explanation 3:\n",
        "A / 200 = 7 / 200 = 0.035\n",
        "Rounded value of 0.035 is 0.\n",
        "\n",
        "Explanation 4:\n",
        "A / 200 = -400 / 200 = -2.00\n",
        "Rounded value of -2.00 is -2.\n",
        "\n",
        "'''\n",
        "\n",
        "import math  # Import math module for floor and ceil functions\n",
        "\n",
        "def solve(A) :\n",
        "\n",
        "    '''\n",
        "    Input: A - An integer value\n",
        "    Output: Return the processed value after applying rounding logic\n",
        "    '''\n",
        "\n",
        "    # Step 1: Divide A by 200\n",
        "\n",
        "    A = A / 200\n",
        "\n",
        "    # Step 2: Apply rounding logic\n",
        "\n",
        "    if A >= 0 :\n",
        "        A = A + 0.5  # If A is positive or zero, add 0.5\n",
        "    else :\n",
        "        A = A - 0.5  # If A is negative, subtract 0.5\n",
        "\n",
        "    # Step 3: Initialize a new variable for storing the final result\n",
        "\n",
        "    New_A = 0\n",
        "\n",
        "    # Step 4: Use floor or ceil based on the sign of A\n",
        "\n",
        "    if A >= 0 :\n",
        "        New_A = math.floor(A)  # Use floor for positive values\n",
        "    else :\n",
        "        New_A = math.ceil(A)   # Use ceil for negative values\n",
        "\n",
        "    # Step 5: Return the final computed value\n",
        "\n",
        "    return New_A\n",
        "\n",
        "# Calling the function with an argument\n",
        "\n",
        "solve(2113)"
      ],
      "metadata": {
        "colab": {
          "base_uri": "https://localhost:8080/"
        },
        "id": "FUacAREJWi_h",
        "outputId": "3310237d-5888-461a-bb9b-30532ec9fad0"
      },
      "execution_count": 12,
      "outputs": [
        {
          "output_type": "execute_result",
          "data": {
            "text/plain": [
              "11"
            ]
          },
          "metadata": {},
          "execution_count": 12
        }
      ]
    },
    {
      "cell_type": "code",
      "source": [],
      "metadata": {
        "id": "PaoPhgOCXoyY"
      },
      "execution_count": null,
      "outputs": []
    },
    {
      "cell_type": "markdown",
      "source": [
        "## Problem 4"
      ],
      "metadata": {
        "id": "4HaQV5Tbsa1u"
      }
    },
    {
      "cell_type": "code",
      "source": [
        "'''\n",
        "\n",
        "Problem Description -\n",
        "\n",
        "Given a number A. Return square root of the number if it is perfect square otherwise return -1.\n",
        "Note: A number is a perfect square if its square root is an integer.\n",
        "\n",
        "Problem Constraints\n",
        "1 <= A <= 108\n",
        "\n",
        "Input Format\n",
        "First and the only argument is an integer A.\n",
        "\n",
        "Output Format\n",
        "Return an integer which is the square root of A if A is perfect square otherwise return -1.\n",
        "\n",
        "Example Input\n",
        "Input 1:\n",
        "A = 4\n",
        "\n",
        "Input 2:\n",
        "A = 1001\n",
        "\n",
        "Example Output\n",
        "Output 1:\n",
        "2\n",
        "\n",
        "Output 2:\n",
        "-1\n",
        "\n",
        "Example Explanation\n",
        "Explanation 1:\n",
        "sqrt(4) = 2\n",
        "\n",
        "Explanation 2:\n",
        "1001 is not a perfect square.\n",
        "\n",
        "'''\n",
        "\n",
        "def solve(A) :\n",
        "\n",
        "    '''\n",
        "    Input: A - An integer value\n",
        "    Output: Return the square root of A if A is a perfect square, otherwise return -1.\n",
        "    '''\n",
        "\n",
        "    # Check if the square root of A is an integer\n",
        "\n",
        "    if A ** 0.5 == int(A ** 0.5) :\n",
        "        return int(A ** 0.5)  # Return the integer square root\n",
        "    else :\n",
        "        return -1  # Return -1 if A is not a perfect square\n",
        "# Calling the function with an argument\n",
        "\n",
        "solve(4)"
      ],
      "metadata": {
        "colab": {
          "base_uri": "https://localhost:8080/"
        },
        "id": "wNbe4U-rsdOz",
        "outputId": "468d46b6-5445-43e1-c81f-eab24ef8b021"
      },
      "execution_count": 13,
      "outputs": [
        {
          "output_type": "execute_result",
          "data": {
            "text/plain": [
              "2"
            ]
          },
          "metadata": {},
          "execution_count": 13
        }
      ]
    },
    {
      "cell_type": "code",
      "source": [],
      "metadata": {
        "id": "xz2fsVMBtIbd"
      },
      "execution_count": null,
      "outputs": []
    },
    {
      "cell_type": "markdown",
      "source": [
        "## Problem 5"
      ],
      "metadata": {
        "id": "-rv7nwLBtJpr"
      }
    },
    {
      "cell_type": "code",
      "source": [
        "# What is the output of the code?\n",
        "\n",
        "'''\n",
        "\n",
        "def multiple_print(s, n = 1):\n",
        "    print(s * n, end='')\n",
        "    print() # this prints new line i.e. \\n\n",
        "\n",
        "multiple_print('Hello', 2)\n",
        "multiple_print('Hello')\n",
        "\n",
        "'''\n",
        "# Answer - HelloHello\\nHello\\n"
      ],
      "metadata": {
        "id": "YMlwLjJVtLla"
      },
      "execution_count": null,
      "outputs": []
    },
    {
      "cell_type": "code",
      "source": [],
      "metadata": {
        "id": "xIQZXe1etdF_"
      },
      "execution_count": null,
      "outputs": []
    },
    {
      "cell_type": "markdown",
      "source": [
        "## Problem 6"
      ],
      "metadata": {
        "id": "XeZ9eBy6tdTl"
      }
    },
    {
      "cell_type": "code",
      "source": [
        "'''\n",
        "Considering the Interest() function:\n",
        "\n",
        "def Interest(p,c,t=2,r=0.09):\n",
        "  return p*t*r\n",
        "Which of the following function calls are legal ?\n",
        "\n",
        "Option -\n",
        "A. Interest(p=1000,c=5)\n",
        "B. Interest(r=0.05,5000,3)\n",
        "C. Interest(500,t=2,r=0.05)\n",
        "D. Interest(c=4,r=0.12,p=5000)\n",
        "\n",
        "'''\n",
        "# Answer - A. Interest(p=1000,c=5) and D. Interest(c=4,r=0.12,p=5000)"
      ],
      "metadata": {
        "id": "yl2sNWS5tfX_"
      },
      "execution_count": null,
      "outputs": []
    },
    {
      "cell_type": "code",
      "source": [],
      "metadata": {
        "id": "SJAWpDtjt_7c"
      },
      "execution_count": null,
      "outputs": []
    },
    {
      "cell_type": "markdown",
      "source": [
        "## Problem 7"
      ],
      "metadata": {
        "id": "zPowrtWEuAF1"
      }
    },
    {
      "cell_type": "code",
      "source": [
        "'''\n",
        "\n",
        "Given the following function fun1()\n",
        "\n",
        "def fun1(name, age) :\n",
        "  print(name, age)\n",
        "\n",
        "\n",
        "Select all the syntactically correct function calls to this function\n",
        "\n",
        "Option -\n",
        "\n",
        "A. fun1(\"Mohit\", age=23)\n",
        "B. fun1(age =23, name=\"Mohit\")\n",
        "C. fun1(name=\"Mohit\", 23)\n",
        "D. fun1(23, \"Mohit\")\n",
        "\n",
        "'''\n",
        "\n",
        "# Answer - fun1(“Mohit”, age=23), fun1(age =23, name=”Mohit”) and fun1(23, “Mohit”)"
      ],
      "metadata": {
        "id": "a1BWlG3fuB5u"
      },
      "execution_count": null,
      "outputs": []
    },
    {
      "cell_type": "code",
      "source": [],
      "metadata": {
        "id": "3ZSmFeM3umtf"
      },
      "execution_count": null,
      "outputs": []
    },
    {
      "cell_type": "code",
      "source": [],
      "metadata": {
        "id": "XBE202k_umxj"
      },
      "execution_count": null,
      "outputs": []
    },
    {
      "cell_type": "markdown",
      "source": [
        "# Additional Problems"
      ],
      "metadata": {
        "id": "Wou-vPPuunAy"
      }
    },
    {
      "cell_type": "code",
      "source": [],
      "metadata": {
        "id": "wDNncvBWuqp3"
      },
      "execution_count": null,
      "outputs": []
    },
    {
      "cell_type": "code",
      "source": [],
      "metadata": {
        "id": "mOqp8NC_uqtY"
      },
      "execution_count": null,
      "outputs": []
    },
    {
      "cell_type": "markdown",
      "source": [
        "## Problem 1"
      ],
      "metadata": {
        "id": "69RDGQHXuq9x"
      }
    },
    {
      "cell_type": "code",
      "source": [
        "'''\n",
        "\n",
        "Problem Description -\n",
        "\n",
        "Given the height (A) and weight (B) of a person as input in centimetres and kilograms.\n",
        "Find the BMI of that person and the classification of the user based on their BMI.\n",
        "\n",
        "Print Underweight if BMI < 18.5\n",
        "Print Normal if BMI lies in the range [18.5, 24.9]\n",
        "Print Overweight if BMI lies in the range (24.9, 29.9]\n",
        "Print Obese if BMI is greater than 29.9\n",
        "If x is the weight in kilograms and y is the height in metres.\n",
        "\n",
        "Then, BMI is calculated as x/(y*y).\n",
        "\n",
        "Note: Use round(BMI,1) to get only one digit after decimal\n",
        "\n",
        "Problem Constraints -\n",
        "1 <= A <= 180\n",
        "1 <= B <= 120\n",
        "\n",
        "Input Format -\n",
        "The first line contains the height of the person in centimetres.\n",
        "The second line of the input contains the weight of the person in kilograms.\n",
        "\n",
        "Output Format -\n",
        "The first line of the output contains the classification of a person based on the BMI value.\n",
        "The second line of the output contains the BMI value of the person having only one digit after decimal.\n",
        "\n",
        "\n",
        "Sample Input -\n",
        "Input 1:\n",
        "101\n",
        "29\n",
        "\n",
        "Input 2:\n",
        "129\n",
        "31\n",
        "\n",
        "Sample Output -\n",
        "Output 1:\n",
        "Overweight\n",
        "28.4\n",
        "\n",
        "Output 2:\n",
        "Normal\n",
        "18.6\n",
        "\n",
        "'''\n",
        "\n",
        "# Taking user input for height (in cm) and weight (in kg)\n",
        "\n",
        "A = float(input())  # Input: Height in centimeters\n",
        "B = float(input())  # Input: Weight in kilograms\n",
        "\n",
        "# Convert height from centimeters to meters\n",
        "\n",
        "Height = A / 100\n",
        "\n",
        "# Calculate BMI using the formula: BMI = weight (kg) / height (m)^2\n",
        "\n",
        "BMI = B / (Height * Height)\n",
        "\n",
        "# Round BMI to one decimal place\n",
        "\n",
        "BMI = round(BMI, 1)\n",
        "\n",
        "# Categorize BMI into different weight classifications\n",
        "\n",
        "if BMI < 18.5 :\n",
        "    print(\"Underweight\")\n",
        "elif BMI >= 18.5 and BMI <= 24.9 :\n",
        "      print(\"Normal\")\n",
        "elif BMI > 24.9 and BMI < 29.9 :\n",
        "    print(\"Overweight\")\n",
        "else :\n",
        "    print(\"Obese\")\n",
        "\n",
        "# Print the calculated BMI\n",
        "\n",
        "print(BMI)"
      ],
      "metadata": {
        "colab": {
          "base_uri": "https://localhost:8080/"
        },
        "id": "vyX9nQArusrN",
        "outputId": "be83863e-72b1-46ad-c31b-05dba43094c9"
      },
      "execution_count": 2,
      "outputs": [
        {
          "output_type": "stream",
          "name": "stdout",
          "text": [
            "101\n",
            "29\n",
            "Overweight\n",
            "28.4\n"
          ]
        }
      ]
    },
    {
      "cell_type": "code",
      "source": [],
      "metadata": {
        "id": "x1QkY06jvS4r"
      },
      "execution_count": null,
      "outputs": []
    },
    {
      "cell_type": "markdown",
      "source": [
        "## Problem 2"
      ],
      "metadata": {
        "id": "X_e08JuNvXZy"
      }
    },
    {
      "cell_type": "code",
      "source": [
        "'''\n",
        "\n",
        "Problem Description -\n",
        "Given two numbers A & B. Return their sum.\n",
        "\n",
        "\n",
        "Problem Constraints\n",
        "1 <= A <= 107\n",
        "1 <= B <= 107\n",
        "\n",
        "\n",
        "Input Format\n",
        "First argument is an integer A.\n",
        "Second argument is an integer B.\n",
        "\n",
        "\n",
        "\n",
        "Output Format\n",
        "Return an integer which is the sum of A & B.\n",
        "\n",
        "\n",
        "\n",
        "Example Input\n",
        "Input 1:\n",
        "A = 4, B = 3\n",
        "\n",
        "Input 2:\n",
        "A = 14, B = 34\n",
        "\n",
        "Example Output\n",
        "Output 1:\n",
        "7\n",
        "\n",
        "Output 2:\n",
        "48\n",
        "\n",
        "\n",
        "Example Explanation\n",
        "Explanation 1:\n",
        "4 + 3 = 7\n",
        "\n",
        "Explanation 2:\n",
        "14 + 34 = 48\n",
        "\n",
        "'''\n",
        "\n",
        "# Function to return the sum of two numbers\n",
        "\n",
        "def solve(A, B) :\n",
        "    return A + B  # Return the sum of A and B\n",
        "\n",
        "# Calling the function with an argument\n",
        "\n",
        "solve(4, 3)"
      ],
      "metadata": {
        "colab": {
          "base_uri": "https://localhost:8080/"
        },
        "id": "Qh8fgktsvZ6s",
        "outputId": "d8c175d9-3e8b-4d4b-de00-6eec834b6695"
      },
      "execution_count": 14,
      "outputs": [
        {
          "output_type": "execute_result",
          "data": {
            "text/plain": [
              "7"
            ]
          },
          "metadata": {},
          "execution_count": 14
        }
      ]
    },
    {
      "cell_type": "code",
      "source": [],
      "metadata": {
        "id": "-XNK4fiPvz14"
      },
      "execution_count": 3,
      "outputs": []
    },
    {
      "cell_type": "markdown",
      "source": [
        "## Problem 3"
      ],
      "metadata": {
        "id": "SF75-JSKvz_N"
      }
    },
    {
      "cell_type": "code",
      "source": [
        "'''\n",
        "\n",
        "Problem Description -\n",
        "\n",
        "Given two numbers A & B. Return their product.\n",
        "\n",
        "\n",
        "Problem Constraints\n",
        "1 <= A <= 104\n",
        "1 <= B <= 104\n",
        "\n",
        "\n",
        "Input Format\n",
        "First argument is an integer A.\n",
        "Second argument is an integer B.\n",
        "\n",
        "\n",
        "\n",
        "Output Format\n",
        "Return an integer which is the product of A & B.\n",
        "\n",
        "\n",
        "\n",
        "Example Input\n",
        "Input 1:\n",
        "A = 4, B = 3\n",
        "\n",
        "Input 2:\n",
        "A = 14, B = 34\n",
        "\n",
        "\n",
        "Example Output\n",
        "Output 1:\n",
        "12\n",
        "\n",
        "Output 2:\n",
        "476\n",
        "\n",
        "\n",
        "Example Explanation\n",
        "Explanation 1:\n",
        "4 * 3 = 12\n",
        "\n",
        "Explanation 2:\n",
        "14 * 34 = 476\n",
        "\n",
        "'''\n",
        "\n",
        "# Function to return the product of two numbers\n",
        "\n",
        "def solve(A, B) :\n",
        "    return A * B  # Return the multiplication of A and B\n",
        "\n",
        "# Calling the function with an argument\n",
        "\n",
        "solve(14, 34)"
      ],
      "metadata": {
        "colab": {
          "base_uri": "https://localhost:8080/"
        },
        "id": "jT89L6wwv1je",
        "outputId": "a1d07821-2755-4e85-c2db-946dcf44ae55"
      },
      "execution_count": 15,
      "outputs": [
        {
          "output_type": "execute_result",
          "data": {
            "text/plain": [
              "476"
            ]
          },
          "metadata": {},
          "execution_count": 15
        }
      ]
    },
    {
      "cell_type": "code",
      "source": [],
      "metadata": {
        "id": "6l3zsIo7wRHH"
      },
      "execution_count": null,
      "outputs": []
    },
    {
      "cell_type": "markdown",
      "source": [
        "## Problem 4"
      ],
      "metadata": {
        "id": "vZ54FzGjwRdW"
      }
    },
    {
      "cell_type": "code",
      "source": [
        "'''\n",
        "\n",
        "Problem Description -\n",
        "\n",
        "Given a number A. Return square of the number.\n",
        "\n",
        "\n",
        "Problem Constraints\n",
        "1 <= A <= 104\n",
        "\n",
        "\n",
        "Input Format\n",
        "First argument is an integer A.\n",
        "\n",
        "\n",
        "Output Format\n",
        "Return an integer which is the square of A.\n",
        "\n",
        "\n",
        "\n",
        "Example Input\n",
        "Input 1:\n",
        "A = 4\n",
        "\n",
        "Input 2:\n",
        "A = 14\n",
        "\n",
        "\n",
        "\n",
        "Example Output\n",
        "Output 1:\n",
        "16\n",
        "\n",
        "Output 2:\n",
        "196\n",
        "\n",
        "\n",
        "\n",
        "Example Explanation\n",
        "Explanation 1:\n",
        "square(4) = 16\n",
        "\n",
        "Explanation 2:\n",
        "square(14) = 196\n",
        "\n",
        "'''\n",
        "\n",
        "# Function to return the square of a given number\n",
        "\n",
        "def solve(A) :\n",
        "    return A ** 2  # Return A raised to the power of 2 (A squared)\n",
        "\n",
        "# Calling the function with an argument\n",
        "\n",
        "solve(4)"
      ],
      "metadata": {
        "colab": {
          "base_uri": "https://localhost:8080/"
        },
        "id": "6wILTFh6wTK9",
        "outputId": "5c63fe54-be62-4034-9d72-7574f278c647"
      },
      "execution_count": 16,
      "outputs": [
        {
          "output_type": "execute_result",
          "data": {
            "text/plain": [
              "16"
            ]
          },
          "metadata": {},
          "execution_count": 16
        }
      ]
    },
    {
      "cell_type": "code",
      "source": [],
      "metadata": {
        "id": "cY0UYO1PxDDL"
      },
      "execution_count": null,
      "outputs": []
    },
    {
      "cell_type": "markdown",
      "source": [
        "## Problem 5"
      ],
      "metadata": {
        "id": "9WbecoQ3xDLF"
      }
    },
    {
      "cell_type": "code",
      "source": [
        "'''\n",
        "\n",
        "Problem Description -\n",
        "\n",
        "Given an integer A, find the floor value of real number A / 200.\n",
        "Floor value of a real number X is the greatest integer less than or equal to X.\n",
        "\n",
        "\n",
        "Problem Constraints\n",
        "-108 <= A <= 108\n",
        "\n",
        "\n",
        "\n",
        "Input Format\n",
        "First and only argument is an integer A.\n",
        "\n",
        "\n",
        "\n",
        "Output Format\n",
        "Return an integer denoting the floor value of real number A / 200.\n",
        "\n",
        "\n",
        "\n",
        "Example Input\n",
        "Input 1:\n",
        "A = 2113\n",
        "\n",
        "Input 2:\n",
        "A = -2113\n",
        "\n",
        "Input 3:\n",
        "A = 7\n",
        "\n",
        "Input 4:\n",
        "A = -400\n",
        "\n",
        "\n",
        "Example Output\n",
        "Output 1:\n",
        "10\n",
        "\n",
        "Output 2:\n",
        "-11\n",
        "\n",
        "Output 3:\n",
        "0\n",
        "\n",
        "Output 4:\n",
        "-2\n",
        "\n",
        "\n",
        "Example Explanation\n",
        "Explanation 1:\n",
        "A / 200 = 2113 / 200 = 10.565\n",
        "Floor value of 10.565 is 10.\n",
        "\n",
        "Explanation 2:\n",
        "A / 200 = -2113 / 200 = -10.565\n",
        "Floor value of -10.565 is -11.\n",
        "\n",
        "Explanation 3:\n",
        "A / 200 = 7 / 200 = 0.035\n",
        "Floor value of 0.035 is 0.\n",
        "\n",
        "Explanation 4:\n",
        "A / 200 = -400 / 200 = -2.00\n",
        "Floor value of -2.00 is -2.\n",
        "\n",
        "'''\n",
        "\n",
        "# Function to compute the integer division of A by 200\n",
        "\n",
        "def solve(A) :\n",
        "    return A // 200  # Perform floor division of A by 200 and return the result\n",
        "\n",
        "# Calling the function with an argument\n",
        "\n",
        "solve(2113)"
      ],
      "metadata": {
        "colab": {
          "base_uri": "https://localhost:8080/"
        },
        "id": "ipCqxdSaxEz_",
        "outputId": "23dad77e-660b-4949-8701-3ad88a639149"
      },
      "execution_count": 17,
      "outputs": [
        {
          "output_type": "execute_result",
          "data": {
            "text/plain": [
              "10"
            ]
          },
          "metadata": {},
          "execution_count": 17
        }
      ]
    },
    {
      "cell_type": "code",
      "source": [],
      "metadata": {
        "id": "aEPG5aXAx2eY"
      },
      "execution_count": null,
      "outputs": []
    },
    {
      "cell_type": "markdown",
      "source": [
        "## Problem 6"
      ],
      "metadata": {
        "id": "miNS-Yz0x52Y"
      }
    },
    {
      "cell_type": "code",
      "source": [
        "'''\n",
        "Problem Description -\n",
        "\n",
        "Given an integer A, find the ceil value of real number A / 200.\n",
        "Ceil value of a real number X is the smallest integer value that is greater than or equal to X.\n",
        "\n",
        "\n",
        "Problem Constraints\n",
        "-108 <= A <= 108\n",
        "\n",
        "\n",
        "\n",
        "Input Format\n",
        "First and only argument is an integer A.\n",
        "\n",
        "\n",
        "\n",
        "Output Format\n",
        "Return an integer denoting the ceil value of real number A / 200.\n",
        "\n",
        "\n",
        "\n",
        "Example Input\n",
        "Input 1:\n",
        "A = 2113\n",
        "\n",
        "Input 2:\n",
        "A = -2113\n",
        "\n",
        "Input 3:\n",
        "A = 7\n",
        "\n",
        "Input 4:\n",
        "A = -400\n",
        "\n",
        "\n",
        "Example Output\n",
        "Output 1:\n",
        "11\n",
        "\n",
        "Output 2:\n",
        "-10\n",
        "\n",
        "Output 3:\n",
        "1\n",
        "\n",
        "Output 4:\n",
        "-2\n",
        "\n",
        "\n",
        "Example Explanation\n",
        "Explanation 1:\n",
        "A / 200 = 2113 / 200 = 10.565\n",
        "Ceil value of 10.565 is 11.\n",
        "\n",
        "Explanation 2:\n",
        "A / 200 = -2113 / 200 = -10.565\n",
        "Ceil value of -10.565 is -10.\n",
        "\n",
        "Explanation 3:\n",
        "A / 200 = 7 / 200 = 0.035\n",
        "Ceil value of 0.035 is 1.\n",
        "\n",
        "Explanation 4:\n",
        "A / 200 = -400 / 200 = -2.00\n",
        "Ceil value of -2.00 is -2.\n",
        "\n",
        "'''\n",
        "\n",
        "import math  # Importing math module for mathematical operations\n",
        "\n",
        "# Function to compute the ceiling value of A divided by 200\n",
        "def solve(A) :\n",
        "    return math.ceil(A / 200)  # Perform division and return the smallest integer greater than or equal to the result\n",
        "\n",
        "# Calling the function with an argument\n",
        "\n",
        "solve(-400)"
      ],
      "metadata": {
        "colab": {
          "base_uri": "https://localhost:8080/"
        },
        "id": "UBCA6kmxx7g2",
        "outputId": "4e89e92c-e5e5-41d3-84c0-6919ac9f6802"
      },
      "execution_count": 18,
      "outputs": [
        {
          "output_type": "execute_result",
          "data": {
            "text/plain": [
              "-2"
            ]
          },
          "metadata": {},
          "execution_count": 18
        }
      ]
    },
    {
      "cell_type": "code",
      "source": [],
      "metadata": {
        "id": "SYsSI0l-ybs7"
      },
      "execution_count": null,
      "outputs": []
    },
    {
      "cell_type": "markdown",
      "source": [
        "## Problem 7"
      ],
      "metadata": {
        "id": "vVccccZHyb1t"
      }
    },
    {
      "cell_type": "code",
      "source": [
        "'''\n",
        "\n",
        "Problem Description -\n",
        "\n",
        "Given two integers A and B, where A is divisible by B.\n",
        "Print the value of quotient, when A is divided by B.\n",
        "Note: It is not necessary that A is completely divisible by B\n",
        "\n",
        "\n",
        "\n",
        "Problem Constraints\n",
        "-109 <= A, B <= 109\n",
        "\n",
        "\n",
        "Input Format\n",
        "First argument is a single integer A.\n",
        "Second argument is a single integer B.\n",
        "\n",
        "\n",
        "Output Format\n",
        "Print a single integer in a single line.\n",
        "\n",
        "\n",
        "\n",
        "Example Input\n",
        "Input 1:\n",
        "A = 8\n",
        "B = 2\n",
        "\n",
        "Input 2:\n",
        "A = -9\n",
        "B = 3\n",
        "\n",
        "\n",
        "Example Output\n",
        "Output 1:\n",
        "4\n",
        "\n",
        "Output 2:\n",
        "-3\n",
        "\n",
        "\n",
        "Example Explanation\n",
        "Explanation 1:\n",
        "Quotient of (8 / 2) = 4\n",
        "\n",
        "Explanation 2:\n",
        "Quotient of (-9 / 3) = -3\n",
        "\n",
        "\n",
        "'''\n",
        "\n",
        "# Function to perform integer division\n",
        "\n",
        "def divide(A, B) :\n",
        "    return A // B  # Returns the quotient of A divided by B using floor division\n",
        "\n",
        "# Calling the function with an argument\n",
        "\n",
        "divide(-9, 3)"
      ],
      "metadata": {
        "colab": {
          "base_uri": "https://localhost:8080/"
        },
        "id": "ii2YgBXlyewp",
        "outputId": "26836cdc-409f-422c-e533-4fd9b78b4636"
      },
      "execution_count": 19,
      "outputs": [
        {
          "output_type": "execute_result",
          "data": {
            "text/plain": [
              "-3"
            ]
          },
          "metadata": {},
          "execution_count": 19
        }
      ]
    },
    {
      "cell_type": "code",
      "source": [],
      "metadata": {
        "id": "if0SGIXIzHNe"
      },
      "execution_count": null,
      "outputs": []
    },
    {
      "cell_type": "markdown",
      "source": [
        "## Problem 8"
      ],
      "metadata": {
        "id": "lZppoIuCzHaI"
      }
    },
    {
      "cell_type": "code",
      "source": [
        "'''\n",
        "\n",
        "Problem Description -\n",
        "\n",
        "You are given two integers A and B.\n",
        "You have to find the value of AB.\n",
        "NOTE: The value of answer is always less than or equal to 109.\n",
        "\n",
        "\n",
        "Problem Constraints\n",
        "1 <= A, B <= 1000\n",
        "\n",
        "\n",
        "\n",
        "Input Format\n",
        "First parameter is an integer A.\n",
        "Second parameter is an integer B.\n",
        "\n",
        "\n",
        "\n",
        "Output Format\n",
        "Return an integer.\n",
        "\n",
        "\n",
        "\n",
        "Example Input\n",
        "Input 1:\n",
        "A = 2\n",
        "B = 3\n",
        "\n",
        "Input 2:\n",
        "A = 1\n",
        "B = 10\n",
        "\n",
        "\n",
        "\n",
        "Example Output\n",
        "Output 1:\n",
        "8\n",
        "\n",
        "Output 2:\n",
        "1\n",
        "\n",
        "\n",
        "Example Explanation\n",
        "Explanation 1:\n",
        "For A = 2 and B = 3, the value of 23 = 2 * 2 * 2 = 8.\n",
        "\n",
        "Explanation 2:\n",
        "For A = 1 and B = 10, the value of 110 = 1.\n",
        "\n",
        "'''\n",
        "\n",
        "# Function to calculate the power of A raised to B\n",
        "\n",
        "def power(A, B) :\n",
        "    return A ** B  # Returns A raised to the power of B\n",
        "\n",
        "# Calling the function with an argument\n",
        "\n",
        "power(1, 10)"
      ],
      "metadata": {
        "colab": {
          "base_uri": "https://localhost:8080/"
        },
        "id": "Q45ByhAPzJr1",
        "outputId": "6a54916d-b127-49c2-845a-71d8c4a4fd39"
      },
      "execution_count": 20,
      "outputs": [
        {
          "output_type": "execute_result",
          "data": {
            "text/plain": [
              "1"
            ]
          },
          "metadata": {},
          "execution_count": 20
        }
      ]
    },
    {
      "cell_type": "code",
      "source": [],
      "metadata": {
        "id": "1D3BEwItzwng"
      },
      "execution_count": null,
      "outputs": []
    },
    {
      "cell_type": "markdown",
      "source": [
        "## Problem 9"
      ],
      "metadata": {
        "id": "w9LXpSg8z1Qy"
      }
    },
    {
      "cell_type": "code",
      "source": [
        "'''\n",
        "\n",
        "Problem Description -\n",
        "\n",
        "You are given an integer A.\n",
        "You have to find the value of cube of A i.e, A3.\n",
        "\n",
        "\n",
        "Problem Constraints\n",
        "1 <= A <= 1000\n",
        "\n",
        "\n",
        "\n",
        "Input Format\n",
        "First and only parameter is an integer A.\n",
        "\n",
        "\n",
        "Output Format\n",
        "Single line integer output.\n",
        "\n",
        "\n",
        "Example Input\n",
        "Input 1:\n",
        "A = 1\n",
        "\n",
        "Input 2:\n",
        "A = 2\n",
        "\n",
        "\n",
        "Example Output\n",
        "Output 1:\n",
        "1\n",
        "\n",
        "Output 2:\n",
        "8\n",
        "\n",
        "\n",
        "Example Explanation\n",
        "Explanation 1:\n",
        "Value of 1 power 3 = 1\n",
        "\n",
        "Explanation 2:\n",
        "Value of 2 power 3 = 2 * 2 * 2 = 8\n",
        "\n",
        "\n",
        "'''\n",
        "\n",
        "# Function to calculate the cube of a given number A\n",
        "\n",
        "def cube(A) :\n",
        "    return A ** 3  # Returns A raised to the power of 3 (A³)\n",
        "\n",
        "# Calling the function with an argument\n",
        "\n",
        "cube(2)"
      ],
      "metadata": {
        "colab": {
          "base_uri": "https://localhost:8080/"
        },
        "id": "lACMNLepz3AU",
        "outputId": "8e60f011-5a98-41d2-e718-3953406fd910"
      },
      "execution_count": 21,
      "outputs": [
        {
          "output_type": "execute_result",
          "data": {
            "text/plain": [
              "8"
            ]
          },
          "metadata": {},
          "execution_count": 21
        }
      ]
    },
    {
      "cell_type": "code",
      "source": [],
      "metadata": {
        "id": "InFI8dQk0VEJ"
      },
      "execution_count": null,
      "outputs": []
    },
    {
      "cell_type": "markdown",
      "source": [
        "## Problem 10"
      ],
      "metadata": {
        "id": "butzdZVZ0VMx"
      }
    },
    {
      "cell_type": "code",
      "source": [
        "# What does the following program print?\n",
        "\n",
        "\n",
        "'''\n",
        "x = 5\n",
        "\n",
        "def foo(x):\n",
        "    x = 4\n",
        "\n",
        "foo(x)\n",
        "print(x)\n",
        "\n",
        "'''\n",
        "# Answer - 5"
      ],
      "metadata": {
        "id": "-ju1iB8h0XJl"
      },
      "execution_count": null,
      "outputs": []
    },
    {
      "cell_type": "code",
      "source": [],
      "metadata": {
        "id": "kwqdFu5a0fXi"
      },
      "execution_count": null,
      "outputs": []
    },
    {
      "cell_type": "markdown",
      "source": [
        "## Problem 11"
      ],
      "metadata": {
        "id": "3jOxVAVp0fl6"
      }
    },
    {
      "cell_type": "code",
      "source": [
        "#  What will be the output of the following code?\n",
        "\n",
        "\n",
        "'''\n",
        "\n",
        "def foo():\n",
        "    x = \"hello world\"\n",
        "\n",
        "foo()\n",
        "print(x)\n",
        "\n",
        "'''\n",
        "# Answer - Error"
      ],
      "metadata": {
        "id": "uBgpx_6q0jYB"
      },
      "execution_count": null,
      "outputs": []
    },
    {
      "cell_type": "code",
      "source": [],
      "metadata": {
        "id": "lsOuKnNe0rfB"
      },
      "execution_count": null,
      "outputs": []
    },
    {
      "cell_type": "markdown",
      "source": [
        "## Problem 12"
      ],
      "metadata": {
        "id": "gQfntV1h0r0q"
      }
    },
    {
      "cell_type": "code",
      "source": [
        "# What does the following program print?\n",
        "\n",
        "'''\n",
        "x = \"global\"\n",
        "def foo():\n",
        "    global x\n",
        "    print(x, end=\",\")\n",
        "    x = \"local\"\n",
        "    print(x, end=\",\")\n",
        "\n",
        "foo()\n",
        "print(x, end=\"\")\n",
        "\n",
        "'''\n",
        "# Answer -  global,local,local"
      ],
      "metadata": {
        "id": "SRq9H_y40tcN"
      },
      "execution_count": null,
      "outputs": []
    },
    {
      "cell_type": "code",
      "source": [],
      "metadata": {
        "id": "5sgP-gkc157S"
      },
      "execution_count": 21,
      "outputs": []
    },
    {
      "cell_type": "code",
      "source": [],
      "metadata": {
        "id": "kUNzIH5K15_x"
      },
      "execution_count": 21,
      "outputs": []
    },
    {
      "cell_type": "code",
      "source": [],
      "metadata": {
        "id": "dBZn1mMP16DK"
      },
      "execution_count": 21,
      "outputs": []
    },
    {
      "cell_type": "code",
      "source": [],
      "metadata": {
        "id": "QseFdRgL16G1"
      },
      "execution_count": 21,
      "outputs": []
    },
    {
      "cell_type": "code",
      "source": [],
      "metadata": {
        "id": "NKxHY9is16L1"
      },
      "execution_count": 21,
      "outputs": []
    }
  ]
}